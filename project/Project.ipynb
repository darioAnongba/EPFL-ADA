{
 "cells": [
  {
   "cell_type": "markdown",
   "metadata": {},
   "source": [
    "# Imports"
   ]
  },
  {
   "cell_type": "code",
   "execution_count": 1,
   "metadata": {},
   "outputs": [],
   "source": [
    "import pandas as pd\n",
    "import gzip\n",
    "import matplotlib.pyplot as plt\n",
    "import seaborn as sns\n",
    "import gc\n",
    "\n",
    "DATA_DIR = 'data/'"
   ]
  },
  {
   "cell_type": "markdown",
   "metadata": {},
   "source": [
    "# Utilitary functions"
   ]
  },
  {
   "cell_type": "code",
   "execution_count": 2,
   "metadata": {
    "cell_style": "center"
   },
   "outputs": [],
   "source": [
    "def parse(path):\n",
    "  g = gzip.open(path, 'rb')\n",
    "  for l in g:\n",
    "    yield eval(l)\n",
    "\n",
    "def getDF(path):\n",
    "  i = 0\n",
    "  df = {}\n",
    "  for d in parse(path):\n",
    "    df[i] = d\n",
    "    i += 1\n",
    "  return pd.DataFrame.from_dict(df, orient='index')\n",
    "\n",
    "def clear_memory(df):\n",
    "    lst = [df]\n",
    "    del df\n",
    "    del lst\n",
    "    gc.collect()"
   ]
  },
  {
   "cell_type": "markdown",
   "metadata": {},
   "source": [
    "# Number of reviews per category"
   ]
  },
  {
   "cell_type": "code",
   "execution_count": 32,
   "metadata": {},
   "outputs": [],
   "source": [
    "def to_datetime(df):\n",
    "    df['datetime'] = pd.to_datetime(df['unixReviewTime'], unit='s')\n",
    "    return df\n",
    "    \n",
    "def get_count_year(df):\n",
    "    return df['datetime'].groupby([df.datetime.dt.year]).agg('average')\n",
    "\n",
    "def get_count_month_year(df):\n",
    "    return df['datetime'].groupby([df.datetime.dt.year, df.datetime.dt.month]).agg('avg')"
   ]
  },
  {
   "cell_type": "markdown",
   "metadata": {},
   "source": [
    "## Category: Pet Supplies"
   ]
  },
  {
   "cell_type": "code",
   "execution_count": 31,
   "metadata": {},
   "outputs": [
    {
     "data": {
      "text/html": [
       "<div>\n",
       "<style>\n",
       "    .dataframe thead tr:only-child th {\n",
       "        text-align: right;\n",
       "    }\n",
       "\n",
       "    .dataframe thead th {\n",
       "        text-align: left;\n",
       "    }\n",
       "\n",
       "    .dataframe tbody tr th {\n",
       "        vertical-align: top;\n",
       "    }\n",
       "</style>\n",
       "<table border=\"1\" class=\"dataframe\">\n",
       "  <thead>\n",
       "    <tr style=\"text-align: right;\">\n",
       "      <th></th>\n",
       "      <th>reviewerID</th>\n",
       "      <th>asin</th>\n",
       "      <th>reviewerName</th>\n",
       "      <th>helpful</th>\n",
       "      <th>reviewText</th>\n",
       "      <th>overall</th>\n",
       "      <th>summary</th>\n",
       "      <th>unixReviewTime</th>\n",
       "      <th>reviewTime</th>\n",
       "      <th>datetime</th>\n",
       "    </tr>\n",
       "  </thead>\n",
       "  <tbody>\n",
       "    <tr>\n",
       "      <th>0</th>\n",
       "      <td>A3PG0KS1YE8MR4</td>\n",
       "      <td>0615553605</td>\n",
       "      <td>Big Sky Gal</td>\n",
       "      <td>[3, 3]</td>\n",
       "      <td>Recipes are easy and the dogs love them. I wou...</td>\n",
       "      <td>5.0</td>\n",
       "      <td>Great little book!</td>\n",
       "      <td>1354838400</td>\n",
       "      <td>12 7, 2012</td>\n",
       "      <td>2012-12-07</td>\n",
       "    </tr>\n",
       "    <tr>\n",
       "      <th>1</th>\n",
       "      <td>A363P047LR5XI6</td>\n",
       "      <td>0615553605</td>\n",
       "      <td>Miguel Giraldo</td>\n",
       "      <td>[2, 2]</td>\n",
       "      <td>I received the book in the mail yesterday, the...</td>\n",
       "      <td>4.0</td>\n",
       "      <td>Nice little book</td>\n",
       "      <td>1373932800</td>\n",
       "      <td>07 16, 2013</td>\n",
       "      <td>2013-07-16</td>\n",
       "    </tr>\n",
       "    <tr>\n",
       "      <th>2</th>\n",
       "      <td>ABZ8CQXD42H4</td>\n",
       "      <td>0615553605</td>\n",
       "      <td>Ross Lockhart</td>\n",
       "      <td>[0, 0]</td>\n",
       "      <td>Not so good.  Some of the recipes are not what...</td>\n",
       "      <td>1.0</td>\n",
       "      <td>Did not like the book</td>\n",
       "      <td>1386028800</td>\n",
       "      <td>12 3, 2013</td>\n",
       "      <td>2013-12-03</td>\n",
       "    </tr>\n",
       "    <tr>\n",
       "      <th>3</th>\n",
       "      <td>A3J8QW1MV1OP01</td>\n",
       "      <td>0615583474</td>\n",
       "      <td>Beth Light</td>\n",
       "      <td>[4, 4]</td>\n",
       "      <td>This is a fun, interactive book that incorpora...</td>\n",
       "      <td>5.0</td>\n",
       "      <td>This is a Precious Book for Precious Cats</td>\n",
       "      <td>1347321600</td>\n",
       "      <td>09 11, 2012</td>\n",
       "      <td>2012-09-11</td>\n",
       "    </tr>\n",
       "    <tr>\n",
       "      <th>4</th>\n",
       "      <td>A3ISA8Z0NB0ILH</td>\n",
       "      <td>0615583474</td>\n",
       "      <td>George D. Marshall \"george1767\"</td>\n",
       "      <td>[3, 3]</td>\n",
       "      <td></td>\n",
       "      <td>5.0</td>\n",
       "      <td>Video review of Howie and Friends</td>\n",
       "      <td>1358899200</td>\n",
       "      <td>01 23, 2013</td>\n",
       "      <td>2013-01-23</td>\n",
       "    </tr>\n",
       "  </tbody>\n",
       "</table>\n",
       "</div>"
      ],
      "text/plain": [
       "       reviewerID        asin                     reviewerName helpful  \\\n",
       "0  A3PG0KS1YE8MR4  0615553605                      Big Sky Gal  [3, 3]   \n",
       "1  A363P047LR5XI6  0615553605                   Miguel Giraldo  [2, 2]   \n",
       "2    ABZ8CQXD42H4  0615553605                    Ross Lockhart  [0, 0]   \n",
       "3  A3J8QW1MV1OP01  0615583474                       Beth Light  [4, 4]   \n",
       "4  A3ISA8Z0NB0ILH  0615583474  George D. Marshall \"george1767\"  [3, 3]   \n",
       "\n",
       "                                          reviewText  overall  \\\n",
       "0  Recipes are easy and the dogs love them. I wou...      5.0   \n",
       "1  I received the book in the mail yesterday, the...      4.0   \n",
       "2  Not so good.  Some of the recipes are not what...      1.0   \n",
       "3  This is a fun, interactive book that incorpora...      5.0   \n",
       "4                                                         5.0   \n",
       "\n",
       "                                     summary  unixReviewTime   reviewTime  \\\n",
       "0                         Great little book!      1354838400   12 7, 2012   \n",
       "1                           Nice little book      1373932800  07 16, 2013   \n",
       "2                      Did not like the book      1386028800   12 3, 2013   \n",
       "3  This is a Precious Book for Precious Cats      1347321600  09 11, 2012   \n",
       "4          Video review of Howie and Friends      1358899200  01 23, 2013   \n",
       "\n",
       "    datetime  \n",
       "0 2012-12-07  \n",
       "1 2013-07-16  \n",
       "2 2013-12-03  \n",
       "3 2012-09-11  \n",
       "4 2013-01-23  "
      ]
     },
     "execution_count": 31,
     "metadata": {},
     "output_type": "execute_result"
    }
   ],
   "source": [
    "pet_supplies = getDF(DATA_DIR + 'reviews_Pet_Supplies.json.gz')\n",
    "pet_supplies = to_datetime(pet_supplies)\n",
    "pet_supplies.head()"
   ]
  },
  {
   "cell_type": "code",
   "execution_count": 33,
   "metadata": {},
   "outputs": [
    {
     "ename": "AttributeError",
     "evalue": "'SeriesGroupBy' object has no attribute 'average'",
     "output_type": "error",
     "traceback": [
      "\u001b[0;31m---------------------------------------------------------------------------\u001b[0m",
      "\u001b[0;31mAttributeError\u001b[0m                            Traceback (most recent call last)",
      "\u001b[0;32m<ipython-input-33-7270d53627be>\u001b[0m in \u001b[0;36m<module>\u001b[0;34m()\u001b[0m\n\u001b[0;32m----> 1\u001b[0;31m \u001b[0mpet_supplies_year\u001b[0m \u001b[0;34m=\u001b[0m \u001b[0mget_count_year\u001b[0m\u001b[0;34m(\u001b[0m\u001b[0mpet_supplies\u001b[0m\u001b[0;34m)\u001b[0m\u001b[0;34m\u001b[0m\u001b[0m\n\u001b[0m\u001b[1;32m      2\u001b[0m \u001b[0mpet_supplies_month_year\u001b[0m \u001b[0;34m=\u001b[0m \u001b[0mget_count_month_year\u001b[0m\u001b[0;34m(\u001b[0m\u001b[0mpet_supplies\u001b[0m\u001b[0;34m)\u001b[0m\u001b[0;34m\u001b[0m\u001b[0m\n\u001b[1;32m      3\u001b[0m \u001b[0mclear_memory\u001b[0m\u001b[0;34m(\u001b[0m\u001b[0mpet_supplies\u001b[0m\u001b[0;34m)\u001b[0m\u001b[0;34m\u001b[0m\u001b[0m\n",
      "\u001b[0;32m<ipython-input-32-b7c08db9ae02>\u001b[0m in \u001b[0;36mget_count_year\u001b[0;34m(df)\u001b[0m\n\u001b[1;32m      4\u001b[0m \u001b[0;34m\u001b[0m\u001b[0m\n\u001b[1;32m      5\u001b[0m \u001b[0;32mdef\u001b[0m \u001b[0mget_count_year\u001b[0m\u001b[0;34m(\u001b[0m\u001b[0mdf\u001b[0m\u001b[0;34m)\u001b[0m\u001b[0;34m:\u001b[0m\u001b[0;34m\u001b[0m\u001b[0m\n\u001b[0;32m----> 6\u001b[0;31m     \u001b[0;32mreturn\u001b[0m \u001b[0mdf\u001b[0m\u001b[0;34m[\u001b[0m\u001b[0;34m'datetime'\u001b[0m\u001b[0;34m]\u001b[0m\u001b[0;34m.\u001b[0m\u001b[0mgroupby\u001b[0m\u001b[0;34m(\u001b[0m\u001b[0;34m[\u001b[0m\u001b[0mdf\u001b[0m\u001b[0;34m.\u001b[0m\u001b[0mdatetime\u001b[0m\u001b[0;34m.\u001b[0m\u001b[0mdt\u001b[0m\u001b[0;34m.\u001b[0m\u001b[0myear\u001b[0m\u001b[0;34m]\u001b[0m\u001b[0;34m)\u001b[0m\u001b[0;34m.\u001b[0m\u001b[0magg\u001b[0m\u001b[0;34m(\u001b[0m\u001b[0;34m'average'\u001b[0m\u001b[0;34m)\u001b[0m\u001b[0;34m\u001b[0m\u001b[0m\n\u001b[0m\u001b[1;32m      7\u001b[0m \u001b[0;34m\u001b[0m\u001b[0m\n\u001b[1;32m      8\u001b[0m \u001b[0;32mdef\u001b[0m \u001b[0mget_count_month_year\u001b[0m\u001b[0;34m(\u001b[0m\u001b[0mdf\u001b[0m\u001b[0;34m)\u001b[0m\u001b[0;34m:\u001b[0m\u001b[0;34m\u001b[0m\u001b[0m\n",
      "\u001b[0;32m~/anaconda3/lib/python3.6/site-packages/pandas/core/groupby.py\u001b[0m in \u001b[0;36maggregate\u001b[0;34m(self, func_or_funcs, *args, **kwargs)\u001b[0m\n\u001b[1;32m   2794\u001b[0m         \u001b[0m_level\u001b[0m \u001b[0;34m=\u001b[0m \u001b[0mkwargs\u001b[0m\u001b[0;34m.\u001b[0m\u001b[0mpop\u001b[0m\u001b[0;34m(\u001b[0m\u001b[0;34m'_level'\u001b[0m\u001b[0;34m,\u001b[0m \u001b[0;32mNone\u001b[0m\u001b[0;34m)\u001b[0m\u001b[0;34m\u001b[0m\u001b[0m\n\u001b[1;32m   2795\u001b[0m         \u001b[0;32mif\u001b[0m \u001b[0misinstance\u001b[0m\u001b[0;34m(\u001b[0m\u001b[0mfunc_or_funcs\u001b[0m\u001b[0;34m,\u001b[0m \u001b[0mcompat\u001b[0m\u001b[0;34m.\u001b[0m\u001b[0mstring_types\u001b[0m\u001b[0;34m)\u001b[0m\u001b[0;34m:\u001b[0m\u001b[0;34m\u001b[0m\u001b[0m\n\u001b[0;32m-> 2796\u001b[0;31m             \u001b[0;32mreturn\u001b[0m \u001b[0mgetattr\u001b[0m\u001b[0;34m(\u001b[0m\u001b[0mself\u001b[0m\u001b[0;34m,\u001b[0m \u001b[0mfunc_or_funcs\u001b[0m\u001b[0;34m)\u001b[0m\u001b[0;34m(\u001b[0m\u001b[0;34m*\u001b[0m\u001b[0margs\u001b[0m\u001b[0;34m,\u001b[0m \u001b[0;34m**\u001b[0m\u001b[0mkwargs\u001b[0m\u001b[0;34m)\u001b[0m\u001b[0;34m\u001b[0m\u001b[0m\n\u001b[0m\u001b[1;32m   2797\u001b[0m \u001b[0;34m\u001b[0m\u001b[0m\n\u001b[1;32m   2798\u001b[0m         \u001b[0;32mif\u001b[0m \u001b[0mhasattr\u001b[0m\u001b[0;34m(\u001b[0m\u001b[0mfunc_or_funcs\u001b[0m\u001b[0;34m,\u001b[0m \u001b[0;34m'__iter__'\u001b[0m\u001b[0;34m)\u001b[0m\u001b[0;34m:\u001b[0m\u001b[0;34m\u001b[0m\u001b[0m\n",
      "\u001b[0;32m~/anaconda3/lib/python3.6/site-packages/pandas/core/groupby.py\u001b[0m in \u001b[0;36m__getattr__\u001b[0;34m(self, attr)\u001b[0m\n\u001b[1;32m    549\u001b[0m \u001b[0;34m\u001b[0m\u001b[0m\n\u001b[1;32m    550\u001b[0m         raise AttributeError(\"%r object has no attribute %r\" %\n\u001b[0;32m--> 551\u001b[0;31m                              (type(self).__name__, attr))\n\u001b[0m\u001b[1;32m    552\u001b[0m \u001b[0;34m\u001b[0m\u001b[0m\n\u001b[1;32m    553\u001b[0m     \u001b[0mplot\u001b[0m \u001b[0;34m=\u001b[0m \u001b[0mproperty\u001b[0m\u001b[0;34m(\u001b[0m\u001b[0mGroupByPlot\u001b[0m\u001b[0;34m)\u001b[0m\u001b[0;34m\u001b[0m\u001b[0m\n",
      "\u001b[0;31mAttributeError\u001b[0m: 'SeriesGroupBy' object has no attribute 'average'"
     ]
    }
   ],
   "source": [
    "pet_supplies_year = get_count_year(pet_supplies)\n",
    "pet_supplies_month_year = get_count_month_year(pet_supplies)\n",
    "clear_memory(pet_supplies)"
   ]
  },
  {
   "cell_type": "code",
   "execution_count": 27,
   "metadata": {},
   "outputs": [
    {
     "data": {
      "image/png": "[encoded data removed]",
      "text/plain": [
       "<matplotlib.figure.Figure at 0x7f39a9272cf8>"
      ]
     },
     "metadata": {},
     "output_type": "display_data"
    }
   ],
   "source": [
    "pet_supplies_year.plot()\n",
    "plt.show()"
   ]
  },
  {
   "cell_type": "markdown",
   "metadata": {},
   "source": [
    "## Category: Office Products"
   ]
  },
  {
   "cell_type": "code",
   "execution_count": 19,
   "metadata": {},
   "outputs": [
    {
     "data": {
      "text/html": [
       "<div>\n",
       "<style>\n",
       "    .dataframe thead tr:only-child th {\n",
       "        text-align: right;\n",
       "    }\n",
       "\n",
       "    .dataframe thead th {\n",
       "        text-align: left;\n",
       "    }\n",
       "\n",
       "    .dataframe tbody tr th {\n",
       "        vertical-align: top;\n",
       "    }\n",
       "</style>\n",
       "<table border=\"1\" class=\"dataframe\">\n",
       "  <thead>\n",
       "    <tr style=\"text-align: right;\">\n",
       "      <th></th>\n",
       "      <th>reviewerID</th>\n",
       "      <th>asin</th>\n",
       "      <th>reviewerName</th>\n",
       "      <th>helpful</th>\n",
       "      <th>reviewText</th>\n",
       "      <th>overall</th>\n",
       "      <th>summary</th>\n",
       "      <th>unixReviewTime</th>\n",
       "      <th>reviewTime</th>\n",
       "      <th>datetime</th>\n",
       "    </tr>\n",
       "  </thead>\n",
       "  <tbody>\n",
       "    <tr>\n",
       "      <th>0</th>\n",
       "      <td>A2UESEUCI73CBO</td>\n",
       "      <td>0078800242</td>\n",
       "      <td>Karen Lange</td>\n",
       "      <td>[0, 0]</td>\n",
       "      <td>This is an awesome resource to go with the TE ...</td>\n",
       "      <td>5.0</td>\n",
       "      <td>Great Resource to accompany TE</td>\n",
       "      <td>1374192000</td>\n",
       "      <td>07 19, 2013</td>\n",
       "      <td>2013-07-19</td>\n",
       "    </tr>\n",
       "    <tr>\n",
       "      <th>1</th>\n",
       "      <td>A3BBNK2R5TUYGV</td>\n",
       "      <td>0113000316</td>\n",
       "      <td>b</td>\n",
       "      <td>[0, 0]</td>\n",
       "      <td>even though they were refurbished the colors w...</td>\n",
       "      <td>5.0</td>\n",
       "      <td>worked great</td>\n",
       "      <td>1359417600</td>\n",
       "      <td>01 29, 2013</td>\n",
       "      <td>2013-01-29</td>\n",
       "    </tr>\n",
       "    <tr>\n",
       "      <th>2</th>\n",
       "      <td>A5J78T14FJ5DU</td>\n",
       "      <td>0113000316</td>\n",
       "      <td>N. Sommers</td>\n",
       "      <td>[0, 0]</td>\n",
       "      <td>A good deal and I can make them work ok, BUT I...</td>\n",
       "      <td>3.0</td>\n",
       "      <td>A good deal</td>\n",
       "      <td>1318723200</td>\n",
       "      <td>10 16, 2011</td>\n",
       "      <td>2011-10-16</td>\n",
       "    </tr>\n",
       "    <tr>\n",
       "      <th>3</th>\n",
       "      <td>A2P462UH5L6T57</td>\n",
       "      <td>043928631X</td>\n",
       "      <td>D. Morrissey</td>\n",
       "      <td>[0, 0]</td>\n",
       "      <td>Nice added stocking stuffer.  Beautiful additi...</td>\n",
       "      <td>5.0</td>\n",
       "      <td>Beautiful!</td>\n",
       "      <td>1356912000</td>\n",
       "      <td>12 31, 2012</td>\n",
       "      <td>2012-12-31</td>\n",
       "    </tr>\n",
       "    <tr>\n",
       "      <th>4</th>\n",
       "      <td>A2E0X1MWNRTQF4</td>\n",
       "      <td>0439340039</td>\n",
       "      <td>Drake's mom</td>\n",
       "      <td>[0, 0]</td>\n",
       "      <td>Could not get the game to run.  I have Windows...</td>\n",
       "      <td>1.0</td>\n",
       "      <td>Didn't work on my PC</td>\n",
       "      <td>1379721600</td>\n",
       "      <td>09 21, 2013</td>\n",
       "      <td>2013-09-21</td>\n",
       "    </tr>\n",
       "  </tbody>\n",
       "</table>\n",
       "</div>"
      ],
      "text/plain": [
       "       reviewerID        asin  reviewerName helpful  \\\n",
       "0  A2UESEUCI73CBO  0078800242   Karen Lange  [0, 0]   \n",
       "1  A3BBNK2R5TUYGV  0113000316             b  [0, 0]   \n",
       "2   A5J78T14FJ5DU  0113000316    N. Sommers  [0, 0]   \n",
       "3  A2P462UH5L6T57  043928631X  D. Morrissey  [0, 0]   \n",
       "4  A2E0X1MWNRTQF4  0439340039   Drake's mom  [0, 0]   \n",
       "\n",
       "                                          reviewText  overall  \\\n",
       "0  This is an awesome resource to go with the TE ...      5.0   \n",
       "1  even though they were refurbished the colors w...      5.0   \n",
       "2  A good deal and I can make them work ok, BUT I...      3.0   \n",
       "3  Nice added stocking stuffer.  Beautiful additi...      5.0   \n",
       "4  Could not get the game to run.  I have Windows...      1.0   \n",
       "\n",
       "                          summary  unixReviewTime   reviewTime   datetime  \n",
       "0  Great Resource to accompany TE      1374192000  07 19, 2013 2013-07-19  \n",
       "1                    worked great      1359417600  01 29, 2013 2013-01-29  \n",
       "2                     A good deal      1318723200  10 16, 2011 2011-10-16  \n",
       "3                      Beautiful!      1356912000  12 31, 2012 2012-12-31  \n",
       "4            Didn't work on my PC      1379721600  09 21, 2013 2013-09-21  "
      ]
     },
     "execution_count": 19,
     "metadata": {},
     "output_type": "execute_result"
    }
   ],
   "source": [
    "office = getDF(DATA_DIR + 'reviews_Office_Products.json.gz')\n",
    "office = to_datetime(office)\n",
    "office.head()"
   ]
  },
  {
   "cell_type": "code",
   "execution_count": 20,
   "metadata": {},
   "outputs": [],
   "source": [
    "office_year = get_count_year(office)\n",
    "office_month_year = get_count_month_year(office)\n",
    "clear_memory(office)"
   ]
  },
  {
   "cell_type": "code",
   "execution_count": 22,
   "metadata": {},
   "outputs": [
    {
     "data": {
      "text/plain": [
       "datetime\n",
       "1998         1\n",
       "1999       213\n",
       "2000      1575\n",
       "2001      2441\n",
       "2002      3203\n",
       "2003      4018\n",
       "2004      4979\n",
       "2005      8753\n",
       "2006     11225\n",
       "2007     24953\n",
       "2008     29355\n",
       "2009     44489\n",
       "2010     70549\n",
       "2011    111838\n",
       "2012    179329\n",
       "2013    433239\n",
       "2014    313026\n",
       "Name: datetime, dtype: int64"
      ]
     },
     "execution_count": 22,
     "metadata": {},
     "output_type": "execute_result"
    }
   ],
   "source": [
    "office_year"
   ]
  },
  {
   "cell_type": "code",
   "execution_count": 21,
   "metadata": {},
   "outputs": [
    {
     "data": {
      "image/png": "[encoded data removed]",
      "text/plain": [
       "<matplotlib.figure.Figure at 0x7f39cf5b8be0>"
      ]
     },
     "metadata": {},
     "output_type": "display_data"
    }
   ],
   "source": [
    "office_year.plot()\n",
    "plt.show()"
   ]
  },
  {
   "cell_type": "markdown",
   "metadata": {},
   "source": [
    "## Category: Grocery and Gourmet Food"
   ]
  },
  {
   "cell_type": "code",
   "execution_count": 14,
   "metadata": {},
   "outputs": [
    {
     "data": {
      "text/html": [
       "<div>\n",
       "<style>\n",
       "    .dataframe thead tr:only-child th {\n",
       "        text-align: right;\n",
       "    }\n",
       "\n",
       "    .dataframe thead th {\n",
       "        text-align: left;\n",
       "    }\n",
       "\n",
       "    .dataframe tbody tr th {\n",
       "        vertical-align: top;\n",
       "    }\n",
       "</style>\n",
       "<table border=\"1\" class=\"dataframe\">\n",
       "  <thead>\n",
       "    <tr style=\"text-align: right;\">\n",
       "      <th></th>\n",
       "      <th>reviewerID</th>\n",
       "      <th>asin</th>\n",
       "      <th>reviewerName</th>\n",
       "      <th>helpful</th>\n",
       "      <th>reviewText</th>\n",
       "      <th>overall</th>\n",
       "      <th>summary</th>\n",
       "      <th>unixReviewTime</th>\n",
       "      <th>reviewTime</th>\n",
       "      <th>datetime</th>\n",
       "    </tr>\n",
       "  </thead>\n",
       "  <tbody>\n",
       "    <tr>\n",
       "      <th>0</th>\n",
       "      <td>A1ZQZ8RJS1XVTX</td>\n",
       "      <td>0657745316</td>\n",
       "      <td>gsxrgirl</td>\n",
       "      <td>[0, 0]</td>\n",
       "      <td>No sugar, no GMO garbage, no fillers that come...</td>\n",
       "      <td>5.0</td>\n",
       "      <td>Best vanilla I've ever had</td>\n",
       "      <td>1381449600</td>\n",
       "      <td>10 11, 2013</td>\n",
       "      <td>2013-10-11</td>\n",
       "    </tr>\n",
       "    <tr>\n",
       "      <th>1</th>\n",
       "      <td>A31W38VGZAUUM4</td>\n",
       "      <td>0700026444</td>\n",
       "      <td>FIFA Lvr</td>\n",
       "      <td>[1, 1]</td>\n",
       "      <td>This is my absolute, undisputed favorite tea r...</td>\n",
       "      <td>5.0</td>\n",
       "      <td>Terrific Tea!</td>\n",
       "      <td>1354752000</td>\n",
       "      <td>12 6, 2012</td>\n",
       "      <td>2012-12-06</td>\n",
       "    </tr>\n",
       "    <tr>\n",
       "      <th>2</th>\n",
       "      <td>A3I0AV0UJX5OH0</td>\n",
       "      <td>1403796890</td>\n",
       "      <td>Alicia b</td>\n",
       "      <td>[0, 0]</td>\n",
       "      <td>I ordered spongbob slippers and I got John Cen...</td>\n",
       "      <td>1.0</td>\n",
       "      <td>grrrrrrr</td>\n",
       "      <td>1385942400</td>\n",
       "      <td>12 2, 2013</td>\n",
       "      <td>2013-12-02</td>\n",
       "    </tr>\n",
       "    <tr>\n",
       "      <th>3</th>\n",
       "      <td>A3QAAOLIXKV383</td>\n",
       "      <td>1403796890</td>\n",
       "      <td>Danny K. Tilley \"Dan Tilley\"</td>\n",
       "      <td>[0, 0]</td>\n",
       "      <td>The cart is fine and works for the purpose for...</td>\n",
       "      <td>3.0</td>\n",
       "      <td>Storage on Wheels Cart</td>\n",
       "      <td>1307836800</td>\n",
       "      <td>06 12, 2011</td>\n",
       "      <td>2011-06-12</td>\n",
       "    </tr>\n",
       "    <tr>\n",
       "      <th>4</th>\n",
       "      <td>AB1A5EGHHVA9M</td>\n",
       "      <td>141278509X</td>\n",
       "      <td>CHelmic</td>\n",
       "      <td>[1, 1]</td>\n",
       "      <td>This product by Archer Farms is the best drink...</td>\n",
       "      <td>5.0</td>\n",
       "      <td>The best drink mix</td>\n",
       "      <td>1332547200</td>\n",
       "      <td>03 24, 2012</td>\n",
       "      <td>2012-03-24</td>\n",
       "    </tr>\n",
       "  </tbody>\n",
       "</table>\n",
       "</div>"
      ],
      "text/plain": [
       "       reviewerID        asin                  reviewerName helpful  \\\n",
       "0  A1ZQZ8RJS1XVTX  0657745316                      gsxrgirl  [0, 0]   \n",
       "1  A31W38VGZAUUM4  0700026444                      FIFA Lvr  [1, 1]   \n",
       "2  A3I0AV0UJX5OH0  1403796890                      Alicia b  [0, 0]   \n",
       "3  A3QAAOLIXKV383  1403796890  Danny K. Tilley \"Dan Tilley\"  [0, 0]   \n",
       "4   AB1A5EGHHVA9M  141278509X                       CHelmic  [1, 1]   \n",
       "\n",
       "                                          reviewText  overall  \\\n",
       "0  No sugar, no GMO garbage, no fillers that come...      5.0   \n",
       "1  This is my absolute, undisputed favorite tea r...      5.0   \n",
       "2  I ordered spongbob slippers and I got John Cen...      1.0   \n",
       "3  The cart is fine and works for the purpose for...      3.0   \n",
       "4  This product by Archer Farms is the best drink...      5.0   \n",
       "\n",
       "                      summary  unixReviewTime   reviewTime   datetime  \n",
       "0  Best vanilla I've ever had      1381449600  10 11, 2013 2013-10-11  \n",
       "1               Terrific Tea!      1354752000   12 6, 2012 2012-12-06  \n",
       "2                    grrrrrrr      1385942400   12 2, 2013 2013-12-02  \n",
       "3      Storage on Wheels Cart      1307836800  06 12, 2011 2011-06-12  \n",
       "4          The best drink mix      1332547200  03 24, 2012 2012-03-24  "
      ]
     },
     "execution_count": 14,
     "metadata": {},
     "output_type": "execute_result"
    }
   ],
   "source": [
    "food = getDF(DATA_DIR + 'reviews_Grocery_and_Gourmet_Food.json.gz')\n",
    "food = to_datetime(food)\n",
    "food.head()"
   ]
  },
  {
   "cell_type": "code",
   "execution_count": 15,
   "metadata": {},
   "outputs": [],
   "source": [
    "food_year = get_count_year(food)\n",
    "food_month_year = get_count_month_year(food)\n",
    "clear_memory(food)"
   ]
  },
  {
   "cell_type": "code",
   "execution_count": 16,
   "metadata": {},
   "outputs": [
    {
     "data": {
      "text/plain": [
       "datetime\n",
       "2000         3\n",
       "2001         1\n",
       "2002         8\n",
       "2003       158\n",
       "2004       608\n",
       "2005      1462\n",
       "2006      7424\n",
       "2007     22479\n",
       "2008     31591\n",
       "2009     48523\n",
       "2010     67055\n",
       "2011    119804\n",
       "2012    192903\n",
       "2013    466834\n",
       "2014    338303\n",
       "Name: datetime, dtype: int64"
      ]
     },
     "execution_count": 16,
     "metadata": {},
     "output_type": "execute_result"
    }
   ],
   "source": [
    "food_year"
   ]
  },
  {
   "cell_type": "code",
   "execution_count": 18,
   "metadata": {},
   "outputs": [
    {
     "data": {
      "image/png": "[encoded data removed]",
      "text/plain": [
       "<matplotlib.figure.Figure at 0x7f39fcee45c0>"
      ]
     },
     "metadata": {},
     "output_type": "display_data"
    }
   ],
   "source": [
    "food_year.plot()\n",
    "plt.show()"
   ]
  }
 ],
 "metadata": {
  "kernelspec": {
   "display_name": "Python [conda root]",
   "language": "python",
   "name": "conda-root-py"
  },
  "language_info": {
   "codemirror_mode": {
    "name": "ipython",
    "version": 3
   },
   "file_extension": ".py",
   "mimetype": "text/x-python",
   "name": "python",
   "nbconvert_exporter": "python",
   "pygments_lexer": "ipython3",
   "version": "3.6.1"
  }
 },
 "nbformat": 4,
 "nbformat_minor": 2
}
