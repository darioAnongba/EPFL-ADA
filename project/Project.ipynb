{
 "cells": [
  {
   "cell_type": "markdown",
   "metadata": {},
   "source": [
    "# Imports"
   ]
  },
  {
   "cell_type": "code",
   "execution_count": 1,
   "metadata": {},
   "outputs": [],
   "source": [
    "import pandas as pd\n",
    "import gzip\n",
    "import matplotlib.pyplot as plt\n",
    "import seaborn as sns\n",
    "import gc\n",
    "\n",
    "DATA_DIR = 'data/'"
   ]
  },
  {
   "cell_type": "markdown",
   "metadata": {},
   "source": [
    "# Utilitary functions"
   ]
  },
  {
   "cell_type": "code",
   "execution_count": 2,
   "metadata": {
    "cell_style": "center"
   },
   "outputs": [],
   "source": [
    "def parse(path):\n",
    "  g = gzip.open(path, 'rb')\n",
    "  for l in g:\n",
    "    yield eval(l)\n",
    "\n",
    "def getDF(path):\n",
    "  i = 0\n",
    "  df = {}\n",
    "  for d in parse(path):\n",
    "    df[i] = d\n",
    "    i += 1\n",
    "  return pd.DataFrame.from_dict(df, orient='index')\n",
    "\n",
    "def clear_memory(df):\n",
    "    lst = [df]\n",
    "    del df\n",
    "    del lst\n",
    "    gc.collect()"
   ]
  },
  {
   "cell_type": "markdown",
   "metadata": {},
   "source": [
    "# Number of reviews per category"
   ]
  },
  {
   "cell_type": "code",
   "execution_count": 4,
   "metadata": {},
   "outputs": [],
   "source": [
    "def to_datetime(df):\n",
    "    df['datetime'] = pd.to_datetime(df['unixReviewTime'], unit='s')\n",
    "    \n",
    "def get_count_year(df):\n",
    "    return df['datetime'].groupby([df.datetime.dt.year]).agg('count')\n",
    "\n",
    "def get_count_month_year(df):\n",
    "    return df['datetime'].groupby([df.datetime.dt.year, df.datetime.dt.month]).agg('count')"
   ]
  },
  {
   "cell_type": "markdown",
   "metadata": {},
   "source": [
    "## Category: Pet Supplies"
   ]
  },
  {
   "cell_type": "code",
   "execution_count": null,
   "metadata": {},
   "outputs": [],
   "source": [
    "pet_supplies = getDF(DATA_DIR + 'reviews_Pet_Supplies.json.gz')\n",
    "pet_supplies.head()"
   ]
  },
  {
   "cell_type": "code",
   "execution_count": null,
   "metadata": {},
   "outputs": [],
   "source": [
    "pet_supplies_year = get_count_year(pet_supplies)\n",
    "pet_supplies_month_year = get_count_month_year(pet_supplies)\n",
    "clear_memory(pet_supplies)"
   ]
  },
  {
   "cell_type": "markdown",
   "metadata": {},
   "source": [
    "## Category: Office Products"
   ]
  },
  {
   "cell_type": "code",
   "execution_count": null,
   "metadata": {},
   "outputs": [],
   "source": [
    "office = getDF(DATA_DIR + 'reviews_Office_Products.json.gz')\n",
    "office = to_datetime(office)\n",
    "office.head()"
   ]
  },
  {
   "cell_type": "code",
   "execution_count": null,
   "metadata": {},
   "outputs": [],
   "source": [
    "office_year = get_count_year(office)\n",
    "office_month_year = get_count_month_year(office)\n",
    "clear_memory(office)"
   ]
  },
  {
   "cell_type": "markdown",
   "metadata": {},
   "source": [
    "## Category: Grocery and Gourmet Food"
   ]
  },
  {
   "cell_type": "code",
   "execution_count": 3,
   "metadata": {},
   "outputs": [
    {
     "data": {
      "text/html": [
       "<div>\n",
       "<style>\n",
       "    .dataframe thead tr:only-child th {\n",
       "        text-align: right;\n",
       "    }\n",
       "\n",
       "    .dataframe thead th {\n",
       "        text-align: left;\n",
       "    }\n",
       "\n",
       "    .dataframe tbody tr th {\n",
       "        vertical-align: top;\n",
       "    }\n",
       "</style>\n",
       "<table border=\"1\" class=\"dataframe\">\n",
       "  <thead>\n",
       "    <tr style=\"text-align: right;\">\n",
       "      <th></th>\n",
       "      <th>reviewerID</th>\n",
       "      <th>asin</th>\n",
       "      <th>reviewerName</th>\n",
       "      <th>helpful</th>\n",
       "      <th>reviewText</th>\n",
       "      <th>overall</th>\n",
       "      <th>summary</th>\n",
       "      <th>unixReviewTime</th>\n",
       "      <th>reviewTime</th>\n",
       "    </tr>\n",
       "  </thead>\n",
       "  <tbody>\n",
       "    <tr>\n",
       "      <th>0</th>\n",
       "      <td>A1ZQZ8RJS1XVTX</td>\n",
       "      <td>0657745316</td>\n",
       "      <td>gsxrgirl</td>\n",
       "      <td>[0, 0]</td>\n",
       "      <td>No sugar, no GMO garbage, no fillers that come...</td>\n",
       "      <td>5.0</td>\n",
       "      <td>Best vanilla I've ever had</td>\n",
       "      <td>1381449600</td>\n",
       "      <td>10 11, 2013</td>\n",
       "    </tr>\n",
       "    <tr>\n",
       "      <th>1</th>\n",
       "      <td>A31W38VGZAUUM4</td>\n",
       "      <td>0700026444</td>\n",
       "      <td>FIFA Lvr</td>\n",
       "      <td>[1, 1]</td>\n",
       "      <td>This is my absolute, undisputed favorite tea r...</td>\n",
       "      <td>5.0</td>\n",
       "      <td>Terrific Tea!</td>\n",
       "      <td>1354752000</td>\n",
       "      <td>12 6, 2012</td>\n",
       "    </tr>\n",
       "    <tr>\n",
       "      <th>2</th>\n",
       "      <td>A3I0AV0UJX5OH0</td>\n",
       "      <td>1403796890</td>\n",
       "      <td>Alicia b</td>\n",
       "      <td>[0, 0]</td>\n",
       "      <td>I ordered spongbob slippers and I got John Cen...</td>\n",
       "      <td>1.0</td>\n",
       "      <td>grrrrrrr</td>\n",
       "      <td>1385942400</td>\n",
       "      <td>12 2, 2013</td>\n",
       "    </tr>\n",
       "    <tr>\n",
       "      <th>3</th>\n",
       "      <td>A3QAAOLIXKV383</td>\n",
       "      <td>1403796890</td>\n",
       "      <td>Danny K. Tilley \"Dan Tilley\"</td>\n",
       "      <td>[0, 0]</td>\n",
       "      <td>The cart is fine and works for the purpose for...</td>\n",
       "      <td>3.0</td>\n",
       "      <td>Storage on Wheels Cart</td>\n",
       "      <td>1307836800</td>\n",
       "      <td>06 12, 2011</td>\n",
       "    </tr>\n",
       "    <tr>\n",
       "      <th>4</th>\n",
       "      <td>AB1A5EGHHVA9M</td>\n",
       "      <td>141278509X</td>\n",
       "      <td>CHelmic</td>\n",
       "      <td>[1, 1]</td>\n",
       "      <td>This product by Archer Farms is the best drink...</td>\n",
       "      <td>5.0</td>\n",
       "      <td>The best drink mix</td>\n",
       "      <td>1332547200</td>\n",
       "      <td>03 24, 2012</td>\n",
       "    </tr>\n",
       "  </tbody>\n",
       "</table>\n",
       "</div>"
      ],
      "text/plain": [
       "       reviewerID        asin                  reviewerName helpful  \\\n",
       "0  A1ZQZ8RJS1XVTX  0657745316                      gsxrgirl  [0, 0]   \n",
       "1  A31W38VGZAUUM4  0700026444                      FIFA Lvr  [1, 1]   \n",
       "2  A3I0AV0UJX5OH0  1403796890                      Alicia b  [0, 0]   \n",
       "3  A3QAAOLIXKV383  1403796890  Danny K. Tilley \"Dan Tilley\"  [0, 0]   \n",
       "4   AB1A5EGHHVA9M  141278509X                       CHelmic  [1, 1]   \n",
       "\n",
       "                                          reviewText  overall  \\\n",
       "0  No sugar, no GMO garbage, no fillers that come...      5.0   \n",
       "1  This is my absolute, undisputed favorite tea r...      5.0   \n",
       "2  I ordered spongbob slippers and I got John Cen...      1.0   \n",
       "3  The cart is fine and works for the purpose for...      3.0   \n",
       "4  This product by Archer Farms is the best drink...      5.0   \n",
       "\n",
       "                      summary  unixReviewTime   reviewTime  \n",
       "0  Best vanilla I've ever had      1381449600  10 11, 2013  \n",
       "1               Terrific Tea!      1354752000   12 6, 2012  \n",
       "2                    grrrrrrr      1385942400   12 2, 2013  \n",
       "3      Storage on Wheels Cart      1307836800  06 12, 2011  \n",
       "4          The best drink mix      1332547200  03 24, 2012  "
      ]
     },
     "execution_count": 3,
     "metadata": {},
     "output_type": "execute_result"
    }
   ],
   "source": [
    "food = getDF(DATA_DIR + 'reviews_Grocery_and_Gourmet_Food.json.gz')\n",
    "food = to_datetime(food)\n",
    "food.head()"
   ]
  },
  {
   "cell_type": "code",
   "execution_count": null,
   "metadata": {},
   "outputs": [],
   "source": [
    "food_year = get_count_year(food)\n",
    "food_month_year = get_count_month_year(food)\n",
    "clear_memory(food)"
   ]
  }
 ],
 "metadata": {
  "kernelspec": {
   "display_name": "Python [conda root]",
   "language": "python",
   "name": "conda-root-py"
  },
  "language_info": {
   "codemirror_mode": {
    "name": "ipython",
    "version": 3
   },
   "file_extension": ".py",
   "mimetype": "text/x-python",
   "name": "python",
   "nbconvert_exporter": "python",
   "pygments_lexer": "ipython3",
   "version": "3.6.1"
  }
 },
 "nbformat": 4,
 "nbformat_minor": 2
}
