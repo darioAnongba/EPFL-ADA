{
 "cells": [
  {
   "cell_type": "code",
   "execution_count": null,
   "metadata": {
    "collapsed": true
   },
   "outputs": [],
   "source": [
    "%matplotlib inline\n",
    "import pandas as pd\n",
    "import numpy as np\n",
    "import seaborn as sb\n",
    "import gzip\n",
    "import matplotlib.pyplot as plt\n",
    "plt.style.use('ggplot')"
   ]
  },
  {
   "cell_type": "code",
   "execution_count": null,
   "metadata": {
    "collapsed": true
   },
   "outputs": [],
   "source": [
    "##### Functions for reading and parsing files #####\n",
    "\n",
    "def parse(path):\n",
    "    g = gzip.open(path, 'rb')\n",
    "    for l in g:\n",
    "        yield eval(l)\n",
    "\n",
    "def getDF(path):\n",
    "    i = 0\n",
    "    df = {}\n",
    "    for d in parse(path):\n",
    "        df[i] = d\n",
    "        i += 1\n",
    "    return pd.DataFrame.from_dict(df, orient='index')"
   ]
  },
  {
   "cell_type": "code",
   "execution_count": null,
   "metadata": {
    "collapsed": true
   },
   "outputs": [],
   "source": [
    "##### Functions related to the DataFrames directly #####\n",
    "\n",
    "def get_categories(item):\n",
    "    for cats in item['categories']:\n",
    "        for cat in cats:\n",
    "            yield cat\n",
    "            \n",
    "def create_categories_count_df(reviews_df, meta_df):\n",
    "    merged_df = pd.merge(meta_df[['asin', 'categories']], reviews_df[['asin']], on='asin')\n",
    "    categories = {}\n",
    "    for idx, item in merged_df.iterrows():\n",
    "        for cat in get_categories(item):\n",
    "            if cat in categories:\n",
    "                categories[cat] += 1\n",
    "            else:\n",
    "                categories[cat] = 1\n",
    "\n",
    "    count_series = pd.Series(categories, name='count')\n",
    "    count_series.index.name = 'category'\n",
    "    count_series.reset_index()\n",
    "    count_df = count_series.to_frame().sort_values('count', ascending=False)\n",
    "    \n",
    "    return count_df\n",
    "\n",
    "def df_with_datetime(df, col_name='datetime', out_format=None):\n",
    "    if out_format:\n",
    "        df[col_name] = pd.to_datetime(df['unixReviewTime'], unit='s').dt.strftime(out_format)\n",
    "    else:\n",
    "        df[col_name] = pd.to_datetime(df['unixReviewTime'], unit='s')\n",
    "        \n",
    "    return df"
   ]
  },
  {
   "cell_type": "code",
   "execution_count": null,
   "metadata": {
    "cell_style": "center",
    "collapsed": true
   },
   "outputs": [],
   "source": [
    "##### Reading files and transforming into DF #####\n",
    "\n",
    "# Grocery and Gourmet Food (TAKES 3 MIN)\n",
    "reviews_food_df = getDF('data/reviews_Grocery_and_Gourmet_Food.json.gz')\n",
    "#meta_food_df = getDF('data/meta_Grocery_and_Gourmet_Food.json.gz')\n",
    "#reviews_app_df = getDF('data/reviews_Apps_for_Android.json.gz')\n",
    "\n",
    "# Sports and Outdoors (CAREFUL, TAKES ~25 MIN)\n",
    "reviews_sport_df = getDF('data/reviews_Sports_and_Outdoors.json.gz')\n",
    "#meta_sport_df = getDF('data/meta_Sports_and_Outdoors.json.gz')"
   ]
  },
  {
   "cell_type": "code",
   "execution_count": null,
   "metadata": {
    "collapsed": true
   },
   "outputs": [],
   "source": [
    "# Add columns about time from unixReviewTime in reviews DF\n",
    "reviews_food_df = df_with_datetime(reviews_food_df, 'yearTime', '%Y')\n",
    "reviews_food_df = df_with_datetime(reviews_food_df, 'yearMonthTime', '%Y-%m')\n",
    "\n",
    "reviews_sport_df = df_with_datetime(reviews_sport_df, 'yearTime', '%Y')\n",
    "reviews_sport_df = df_with_datetime(reviews_sport_df, 'yearMonthTime', '%Y-%m')"
   ]
  },
  {
   "cell_type": "markdown",
   "metadata": {},
   "source": [
    "First, let's try to see what are the types of items that have been reviewed by people by looking at the different categories in the data from \"Grocery and Gourmet Food\" and \"Sports and Outdoors\"."
   ]
  },
  {
   "cell_type": "code",
   "execution_count": null,
   "metadata": {},
   "outputs": [],
   "source": [
    "food_cat_count_df = create_categories_count_df(reviews_food_df, meta_food_df)\n",
    "food_cat_count_df.head(20)"
   ]
  },
  {
   "cell_type": "code",
   "execution_count": null,
   "metadata": {
    "collapsed": true
   },
   "outputs": [],
   "source": [
    "sport_cat_count_df = create_categories_count_df(reviews_sport_df, meta_sport_df)\n"
   ]
  },
  {
   "cell_type": "code",
   "execution_count": null,
   "metadata": {},
   "outputs": [],
   "source": [
    "sport_cat_count_df[sport_cat_count_df['count'] > 10000]"
   ]
  },
  {
   "cell_type": "markdown",
   "metadata": {},
   "source": [
    "Now, we see that the different categories in the 'Grocery & Gourmet Food' file are not directly useful, because:\n",
    "1. They are not directly telling us if the food is a healthy one or not\n",
    "2. We see that a lot of reviews are about products that are not in a category (except for the main one 'Grocery & Gourmet Food')\n",
    "\n",
    "In order to get the reviews related to a healthy product in this file, we can try the following: we could read the title (and/or description) of all products in the metadata and find the ones containing some keyword related to a healthy lifestyle (e.g. \"organic\", \"natural\", ...). Once we have those products, we can keep only the reviews about those products (using the 'asin' value)."
   ]
  },
  {
   "cell_type": "code",
   "execution_count": null,
   "metadata": {
    "collapsed": true
   },
   "outputs": [],
   "source": [
    "##### Constants #####\n",
    "\n",
    "METADATA_TO_KEEP = ['asin', 'title', 'categories', 'price']\n",
    "REVIEWS_DATA_TO_KEEP = ['asin', 'overall', 'reviewText', 'yearMonthTime', 'yearTime']\n",
    "HEALTHY_FOOD_KEYWORDS = ['organic', 'natural', 'sugar-free', 'healthy', 'vitamin',\n",
    "                        'supplement', 'minerals', 'diet', 'vegan']\n",
    "HEALTHY_SPORT_CATEGORIES = ['Exercise & Fitness', 'Cycling', 'Sport Watches', 'Team Sports',\n",
    "                            'Strength Training Equipment', 'Action Sports', 'Cardio Training',\n",
    "                           'Running']"
   ]
  },
  {
   "cell_type": "code",
   "execution_count": null,
   "metadata": {
    "collapsed": true
   },
   "outputs": [],
   "source": [
    "##### Functions related to the 'healthiness' of items #####\n",
    "\n",
    "def is_food_healthy(item):\n",
    "    for kw in HEALTHY_FOOD_KEYWORDS:\n",
    "        try:\n",
    "            if kw in item['title'].lower() or kw in item['description'].lower():\n",
    "                return True\n",
    "        except:\n",
    "            pass\n",
    "        \n",
    "    return False\n",
    "\n",
    "def is_sport_item_healthy(item):\n",
    "    for cat in get_categories(item):\n",
    "        if cat in HEALTHY_SPORT_CATEGORIES:\n",
    "            return True\n",
    "        \n",
    "    return False"
   ]
  },
  {
   "cell_type": "code",
   "execution_count": null,
   "metadata": {},
   "outputs": [],
   "source": [
    "# Metadata about healthy food only\n",
    "meta_food_healthy_df = meta_food_df[meta_food_df.apply(lambda item: is_food_healthy(item), axis=1)]    \n",
    "print(meta_food_healthy_df.shape)\n",
    "meta_food_healthy_df.head()"
   ]
  },
  {
   "cell_type": "code",
   "execution_count": null,
   "metadata": {},
   "outputs": [],
   "source": [
    "# Reviews about healthy (food) products merged with corresponding metadata\n",
    "merged_food_healthy_df = pd.merge(meta_food_healthy_df[METADATA_TO_KEEP], reviews_food_df[REVIEWS_DATA_TO_KEEP], on='asin')\n",
    "print(merged_food_healthy_df.shape)\n",
    "merged_food_healthy_df.head()"
   ]
  },
  {
   "cell_type": "code",
   "execution_count": null,
   "metadata": {},
   "outputs": [],
   "source": [
    "# Show number of reviews of healthy products for 'Grocery & Gourmet Food' over time\n",
    "sb.countplot(x='yearTime', data=merged_food_healthy_df)"
   ]
  },
  {
   "cell_type": "code",
   "execution_count": null,
   "metadata": {
    "scrolled": true
   },
   "outputs": [],
   "source": [
    "# Show number of reviews for 'Grocery & Gourmet Food' over time\n",
    "sb.countplot(x='yearTime', data=reviews_food_df)"
   ]
  },
  {
   "cell_type": "markdown",
   "metadata": {},
   "source": [
    "Another file that seems interesting for finding healthy products is the 'Sports & Outdoors' one. As we can see, this one contains categories that seem easy to categorize into healthy (or not), e.g. 'Exercise & Fitness' or 'Cycling', plus the products seem to be in more precise categories (not like in the 'Grocery & Gourmet Food' file). Thus, in order to get all reviews about products related to an healthy lifestyle, we could take all the reviews about a product that is in one of the 'healthy' categories, and we can choose those healthy categories manually."
   ]
  },
  {
   "cell_type": "code",
   "execution_count": null,
   "metadata": {
    "scrolled": true
   },
   "outputs": [],
   "source": [
    "# Metadata about healthy sport items only\n",
    "meta_sport_healthy_df = meta_sport_df[meta_sport_df.apply(lambda item: is_sport_item_healthy(item), axis=1)]\n",
    "print(meta_sport_healthy_df.shape)\n",
    "meta_sport_healthy_df.head()"
   ]
  },
  {
   "cell_type": "code",
   "execution_count": null,
   "metadata": {
    "scrolled": true
   },
   "outputs": [],
   "source": [
    "# Reviews about healthy sport items merged with corresponding metadata\n",
    "merged_sport_healthy_df = pd.merge(meta_sport_healthy_df[METADATA_TO_KEEP], reviews_sport_df[REVIEWS_DATA_TO_KEEP], on='asin')\n",
    "print(merged_sport_healthy_df.shape)\n",
    "merged_sport_healthy_df.head()"
   ]
  },
  {
   "cell_type": "code",
   "execution_count": null,
   "metadata": {},
   "outputs": [],
   "source": [
    "# Show number of reviews of healthy products for 'Sports & Outdoors' over time\n",
    "sb.countplot(x='yearTime', data=merged_sport_healthy_df)"
   ]
  },
  {
   "cell_type": "code",
   "execution_count": null,
   "metadata": {},
   "outputs": [],
   "source": [
    "# Show number of reviews for 'Sports & Outdoors' over time\n",
    "sb.countplot(x='yearTime', data=reviews_sport_df)"
   ]
  },
  {
   "cell_type": "markdown",
   "metadata": {},
   "source": [
    "Now that we have reviews of healthy products from both files, we can concatenate them and use those as our healthy reviews."
   ]
  },
  {
   "cell_type": "code",
   "execution_count": null,
   "metadata": {},
   "outputs": [],
   "source": [
    "# All reviews about any healthy products with corresponding metadata\n",
    "merged_healthy_df = pd.concat([merged_food_healthy_df, merged_sport_healthy_df])\n",
    "print(merged_healthy_df.shape)\n",
    "merged_healthy_df.head()"
   ]
  },
  {
   "cell_type": "markdown",
   "metadata": {},
   "source": [
    "# Mode discovering"
   ]
  },
  {
   "cell_type": "markdown",
   "metadata": {},
   "source": [
    "We want to discover some trend. To do so we will first compute the evolution of Amazon by taking the count of review per month over the whole dataset (17.5 GB when taking all categories sets). To avoid useless computation once this is computed it will be saved in a file and read from it again."
   ]
  },
  {
   "cell_type": "code",
   "execution_count": null,
   "metadata": {
    "collapsed": true
   },
   "outputs": [],
   "source": [
    "import datetime\n",
    "from dateutil import parser\n",
    "import os\n",
    "import json\n",
    "def get_date(item):\n",
    "    try:\n",
    "        return datetime.datetime.fromtimestamp(row['unixReviewTime'])\n",
    "    except KeyError:\n",
    "        date_format = \"%m %d, %Y\"\n",
    "        return datetime.datetime.strptime(row['reviewTime'], date_format)\n",
    "\n",
    "\n",
    "def count_review(acc,file_path):\n",
    "    skiped = 0\n",
    "    g = gzip.open(file_path, 'rb')\n",
    "    for l in g:\n",
    "        row =  eval(l)\n",
    "        try:\n",
    "            date_key = get_date(row).strftime('%Y-%m')\n",
    "        except (KeyError, ValueError) as e:\n",
    "            #print('row is : {}'.format(row))      \n",
    "            skiped += 1\n",
    "            continue\n",
    "        if date_key in acc:\n",
    "            acc[date_key] += 1\n",
    "        else:\n",
    "            acc[date_key] = 0\n",
    "    if skiped :\n",
    "        print('skiped {} rows because of KeyError (not present) or ValueError (not parsable)'.format(skiped))"
   ]
  },
  {
   "cell_type": "code",
   "execution_count": null,
   "metadata": {},
   "outputs": [],
   "source": [
    "AMAZON_EVOLUTION = 'data/amazon_evolution.npy'\n",
    "FILES_NAME = []\n",
    "if not os.path.isfile(AMAZON_EVOLUTION):\n",
    "    acc =  {}\n",
    "    for file in os.listdir('data'):\n",
    "        if(file.startswith('reviews') and file.endswith('.json.gz')):\n",
    "            print('current file : {}'.format(file))\n",
    "            count_review(acc,'data/' + file)\n",
    "    np.save(AMAZON_EVOLUTION,acc)\n",
    "else:\n",
    "    acc=np.load(AMAZON_EVOLUTION).item()\n",
    "evolution_df = pd.DataFrame(list(acc.items()),columns=['Date','Number'])\n",
    "evolution_df.sort_values('Number')\n",
    "evolution_df.plot()"
   ]
  },
  {
   "cell_type": "code",
   "execution_count": 118,
   "metadata": {},
   "outputs": [
    {
     "name": "stdout",
     "output_type": "stream",
     "text": [
      " 11, 2017\n"
     ]
    },
    {
     "data": {
      "text/plain": [
       "'2012-11'"
      ]
     },
     "execution_count": 118,
     "metadata": {},
     "output_type": "execute_result"
    }
   ],
   "source": [
    "date_format = \" %m, %Y\"\n",
    "today = datetime.datetime.today()\n",
    "today_formated = today.strftime(date_format)\n",
    "print(today_formated)\n"
   ]
  },
  {
   "cell_type": "code",
   "execution_count": 53,
   "metadata": {},
   "outputs": [
    {
     "name": "stdout",
     "output_type": "stream",
     "text": [
      "reviews_Grocery_and_Gourmet_Food.json.gz\n"
     ]
    }
   ],
   "source": [
    "for file in os.listdir('data'):\n",
    "    if(file.startswith('reviews_G') and file.endswith('.json.gz')):\n",
    "        print('{}'.format(file))"
   ]
  },
  {
   "cell_type": "code",
   "execution_count": null,
   "metadata": {
    "collapsed": true
   },
   "outputs": [],
   "source": [
    "def count_reviews_per_category(df, categories=None):\n",
    "    for idx, item in df.iterrows():\n",
    "        key_date = get_date(item)\n",
    "        for cat in get_categories(item):\n",
    "            if(categories == None or cat in categories):\n",
    "                yield (cat, key_date, 1)\n",
    "        "
   ]
  }
 ],
 "metadata": {
  "kernelspec": {
   "display_name": "Python [conda root]",
   "language": "python",
   "name": "conda-root-py"
  }
 },
 "nbformat": 4,
 "nbformat_minor": 2
}
