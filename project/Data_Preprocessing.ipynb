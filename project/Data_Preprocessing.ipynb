{
 "cells": [
  {
   "cell_type": "markdown",
   "metadata": {},
   "source": [
    "# Data preprocessing"
   ]
  },
  {
   "cell_type": "markdown",
   "metadata": {},
   "source": [
    "This notebook handles \n",
    "all the data preparation and storage needed for the analysis. We decided to separate the analysis into multiple notebooks in order to make the report more readable"
   ]
  },
  {
   "cell_type": "markdown",
   "metadata": {},
   "source": [
    "## Imports, constants and utilitary functions"
   ]
  },
  {
   "cell_type": "code",
   "execution_count": 1,
   "metadata": {
    "collapsed": true
   },
   "outputs": [],
   "source": [
    "import pandas as pd\n",
    "import numpy as np\n",
    "import gzip"
   ]
  },
  {
   "cell_type": "code",
   "execution_count": 2,
   "metadata": {
    "collapsed": true
   },
   "outputs": [],
   "source": [
    "DATA_DIR = 'data/'"
   ]
  },
  {
   "cell_type": "code",
   "execution_count": 3,
   "metadata": {
    "collapsed": true
   },
   "outputs": [],
   "source": []
  },
  {
   "cell_type": "code",
   "execution_count": 4,
   "metadata": {
    "collapsed": true
   },
   "outputs": [],
   "source": []
  },
  {
   "cell_type": "markdown",
   "metadata": {},
   "source": [
    "## Data collection and storage"
   ]
  },
  {
   "cell_type": "markdown",
   "metadata": {},
   "source": [
    "The first task is to task is to collect data from Amazon, organise this data and store it in a ready-to-use data format (pickes).\n",
    "\n",
    "To achieve this, we do the following:\n",
    "* Load the reviews data into dataframes\n",
    "* Load the products metadata into dataframes\n",
    "* Filter the reviews and products to only keep products considered \"healthy\"\n",
    "* Merge the metadata and the reviews into a single dataframe\n",
    "* Store the dataframe in the picke format\n",
    "\n",
    "We decided to restrict our analysis by choosing reviews and products from the **Grocery and Gourmet Food** and **Sports and Outdoors** categories as these categories are more representative of healthy lifestyle than the others.\n",
    "\n",
    "\n",
    "#### The Grocery and Gourmet Food category\n",
    "\n",
    "We see that the different categories in the 'Grocery & Gourmet Food' file are not directly useful, because:\n",
    "1. They are not directly telling us if the food is a healthy one or not\n",
    "2. We see that a lot of reviews are about products that are not in a category (except for the main one 'Grocery & Gourmet Food')\n",
    "    \n",
    "In order to get the reviews related to a healthy product in this file, we can try the following: we could read the title (and/or description) of all products in the metadata and find the ones containing some keyword related to a healthy lifestyle (e.g. \"organic\", \"natural\", ...). Once we have those products, we can keep only the reviews about those products (using the 'asin' value).\n",
    "\n",
    "#### The Sports and Outdoors category\n",
    "\n",
    "The Sports and Outdoors file contains categories that seem easy to categorize into healthy (or not), e.g. 'Exercise & Fitness' or 'Cycling', plus the products seem to be in more precise categories (not like in the 'Grocery & Gourmet Food' file). Thus, in order to get all reviews about products related to an healthy lifestyle, we could take all the reviews about a product that is in one of the 'healthy' categories, and we can choose those healthy categories manually.\n",
    "\n",
    "### Load the data into pandas dataframes\n",
    "\n",
    "Given the amount of data to treat, we do the computations sequentially (file by file)"
   ]
  },
  {
   "cell_type": "code",
   "execution_count": 5,
   "metadata": {
    "collapsed": true
   },
   "outputs": [],
   "source": []
  },
  {
   "cell_type": "markdown",
   "metadata": {},
   "source": [
    "With our utilitary functions ready, we can store the data into pickles. The created files are the following:\n",
    "* **food_reviews_df**: A file containing all the reviews of the Food category\n",
    "* **food_meta_df**: A file containing all the reviews of the Food category\n",
    "* **sports_reviews_df**: A file containing all the reviews of the Sports category\n",
    "* **sports_meta_df**: A file containing all the reviews of the Sports category\n",
    "* **healthy_food_df**: A file containing the merged information about healthy products and reviews of the Food category\n",
    "* **healthy_sports_df**: A file containing the merged information about healthy products and reviews of the Sports category"
   ]
  },
  {
   "cell_type": "code",
   "execution_count": 6,
   "metadata": {
    "collapsed": true
   },
   "outputs": [],
   "source": []
  },
  {
   "cell_type": "code",
   "execution_count": 7,
   "metadata": {},
   "outputs": [
    {
     "name": "stdout",
     "output_type": "stream",
     "text": [
      "Saving file: data/food_reviews_df\n",
      "Saving file: data/food_meta_df\n",
      "Saving file: data/sports_reviews_df\n",
      "Saving file: data/sports_meta_df\n"
     ]
    }
   ],
   "source": []
  },
  {
   "cell_type": "code",
   "execution_count": 8,
   "metadata": {
    "collapsed": true
   },
   "outputs": [],
   "source": []
  },
  {
   "cell_type": "code",
   "execution_count": 9,
   "metadata": {
    "collapsed": true
   },
   "outputs": [],
   "source": []
  },
  {
   "cell_type": "code",
   "execution_count": 10,
   "metadata": {},
   "outputs": [
    {
     "name": "stdout",
     "output_type": "stream",
     "text": [
      "Retrieving data from pickles...\n",
      "Filtering healthy products...\n",
      "Merging dataframes...\n",
      "Saving into pickle at: data/healthy_food_df\n",
      "Done\n"
     ]
    }
   ],
   "source": []
  },
  {
   "cell_type": "code",
   "execution_count": 11,
   "metadata": {},
   "outputs": [
    {
     "name": "stdout",
     "output_type": "stream",
     "text": [
      "Retrieving data from pickles...\n",
      "Filtering healthy products...\n",
      "Merging dataframes...\n",
      "Saving into pickle at: data/healthy_sports_df\n",
      "Done\n"
     ]
    }
   ],
   "source": []
  },
  {
   "cell_type": "markdown",
   "metadata": {},
   "source": [
    "## Number of reviews per category"
   ]
  },
  {
   "cell_type": "markdown",
   "metadata": {},
   "source": [
    "We store the number of reviews per category into a pickle"
   ]
  },
  {
   "cell_type": "markdown",
   "metadata": {},
   "source": [
    "Food categories"
   ]
  },
  {
   "cell_type": "code",
   "execution_count": 12,
   "metadata": {
    "collapsed": true
   },
   "outputs": [],
   "source": []
  },
  {
   "cell_type": "markdown",
   "metadata": {},
   "source": [
    "Sports categories"
   ]
  },
  {
   "cell_type": "code",
   "execution_count": 13,
   "metadata": {
    "collapsed": true
   },
   "outputs": [],
   "source": []
  },
  {
   "cell_type": "code",
   "execution_count": null,
   "metadata": {
    "collapsed": true
   },
   "outputs": [],
   "source": []
  }
 ],
 "metadata": {
  "kernelspec": {
   "display_name": "Python 3",
   "language": "python",
   "name": "python3"
  },
  "language_info": {
   "codemirror_mode": {
    "name": "ipython",
    "version": 3
   },
   "file_extension": ".py",
   "mimetype": "text/x-python",
   "name": "python",
   "nbconvert_exporter": "python",
   "pygments_lexer": "ipython3",
   "version": "3.6.1"
  }
 },
 "nbformat": 4,
 "nbformat_minor": 2
}
