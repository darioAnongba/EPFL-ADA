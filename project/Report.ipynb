{
 "cells": [
  {
   "cell_type": "markdown",
   "metadata": {},
   "source": [
    "# Is adopting a healthier lifestyle a long-term social change?\n",
    "\n",
    "### EPFL CS-401 : Applied Data Analysis Project\n",
    "\n",
    "### Authors:\n",
    "* **Alain Birchmeier**\n",
    "* **Valentin Moullet**\n",
    "* **Dario Anongba Varela**"
   ]
  },
  {
   "cell_type": "markdown",
   "metadata": {},
   "source": [
    "### Abstract"
   ]
  },
  {
   "cell_type": "markdown",
   "metadata": {},
   "source": [
    "The idea of the project is to assess whether the population of western countries is adopting a healthier lifestyle. This project aims to determine if this adoption is a trend or a long-term social change. In either cases, we will try to predict the evolution of this behavior over the upcoming years.\n",
    "\n",
    "In order to achieve that goal, we will use the Amazon reviews dataset. From those reviews, we can extract information about consumer satisfaction, dates, product categories and the enthousiasm for certain products.\n",
    "\n",
    "With the emergence of new institutions promoting healthy lifes (like vegan shops or fitness centers), finding insights and patterns in people's behavior could be useful to define in which direction this social change is heading."
   ]
  },
  {
   "cell_type": "markdown",
   "metadata": {},
   "source": [
    "## Imports, constants and Utilitary functions"
   ]
  },
  {
   "cell_type": "code",
   "execution_count": 1,
   "metadata": {},
   "outputs": [],
   "source": [
    "%matplotlib inline\n",
    "import pandas as pd\n",
    "import numpy as np\n",
    "import seaborn as sb\n",
    "import gzip\n",
    "import matplotlib.pyplot as plt\n",
    "plt.style.use('ggplot')"
   ]
  },
  {
   "cell_type": "code",
   "execution_count": 2,
   "metadata": {},
   "outputs": [],
   "source": [
    "DATA_DIR = 'data/'"
   ]
  },
  {
   "cell_type": "code",
   "execution_count": 3,
   "metadata": {},
   "outputs": [],
   "source": [
    "##### Functions related to the DataFrames directly #####\n",
    "\n",
    "def get_categories(item):\n",
    "    for cats in item['categories']:\n",
    "        for cat in cats:\n",
    "            yield cat\n",
    "            \n",
    "def create_categories_count_df(reviews_df, meta_df):\n",
    "    merged_df = pd.merge(meta_df[['asin', 'categories']], reviews_df[['asin']], on='asin')\n",
    "    categories = {}\n",
    "    for idx, item in merged_df.iterrows():\n",
    "        for cat in get_categories(item):\n",
    "            if cat in categories:\n",
    "                categories[cat] += 1\n",
    "            else:\n",
    "                categories[cat] = 1\n",
    "\n",
    "    count_series = pd.Series(categories, name='count')\n",
    "    count_series.index.name = 'category'\n",
    "    count_series.reset_index()\n",
    "    count_df = count_series.to_frame().sort_values('count', ascending=False)\n",
    "    \n",
    "    return count_df"
   ]
  },
  {
   "cell_type": "markdown",
   "metadata": {},
   "source": [
    "## Data collection"
   ]
  },
  {
   "cell_type": "markdown",
   "metadata": {},
   "source": [
    "The first task is to task is to collect data from Amazon, organise this data and store it in a ready-to-use data format (pickes).\n",
    "\n",
    "To achieve this, we do the following:\n",
    "* Load the reviews data into dataframes\n",
    "* Load the products metadata into dataframes\n",
    "* Filter the reviews and products to only keep products considered \"healthy\"\n",
    "* Merge the metadata and the reviews into a single dataframe\n",
    "* Store the dataframe in the picke format\n",
    "\n",
    "We decided to restrict our analysis by choosing reviews and products from the **Grocery and Gourmet Food** and **Sports and Outdoors** categories as these categories are more representative of healthy lifestyle than the others.\n",
    "\n",
    "\n",
    "#### The Grocery and Gourmet Food category\n",
    "\n",
    "We see that the different categories in the 'Grocery & Gourmet Food' file are not directly useful, because:\n",
    "1. They are not directly telling us if the food is a healthy one or not\n",
    "2. We see that a lot of reviews are about products that are not in a category (except for the main one 'Grocery & Gourmet Food')\n",
    "    \n",
    "In order to get the reviews related to a healthy product in this file, we can try the following: we could read the title (and/or description) of all products in the metadata and find the ones containing some keyword related to a healthy lifestyle (e.g. \"organic\", \"natural\", ...). Once we have those products, we can keep only the reviews about those products (using the 'asin' value).\n",
    "\n",
    "#### The Sports and Outdoors category\n",
    "\n",
    "The Sports and Outdoors file contains categories that seem easy to categorize into healthy (or not), e.g. 'Exercise & Fitness' or 'Cycling', plus the products seem to be in more precise categories (not like in the 'Grocery & Gourmet Food' file). Thus, in order to get all reviews about products related to an healthy lifestyle, we could take all the reviews about a product that is in one of the 'healthy' categories, and we can choose those healthy categories manually.\n",
    "\n",
    "### Load the data into pandas dataframes\n",
    "\n",
    "All the data preprocessing is done in the notebook **Data_Preprocessing** for convenience. We will load the data directly from pickles in this notebook"
   ]
  },
  {
   "cell_type": "code",
   "execution_count": 4,
   "metadata": {},
   "outputs": [],
   "source": [
    "# Food\n",
    "food_reviews_df = pd.read_pickle(DATA_DIR + 'food_reviews_df')\n",
    "food_meta_df = pd.read_pickle(DATA_DIR + 'food_meta_df')\n",
    "healthy_food_df = pd.read_pickle(DATA_DIR + 'healthy_food_df')"
   ]
  },
  {
   "cell_type": "code",
   "execution_count": null,
   "metadata": {},
   "outputs": [],
   "source": [
    "'''\n",
    "# Sports\n",
    "sports_reviews_df = pd.read_pickle(DATA_DIR + 'sports_reviews_df')\n",
    "sports_meta_df = pd.read_pickle(DATA_DIR + 'sports_meta_df')\n",
    "healthy_sports_df = pd.read_pickle(DATA_DIR + 'healthy_sports_df')\n",
    "'''"
   ]
  },
  {
   "cell_type": "markdown",
   "metadata": {},
   "source": [
    "Now that we have reviews of healthy products from both files, we can concatenate them and use those as our healthy reviews.\n"
   ]
  },
  {
   "cell_type": "code",
   "execution_count": null,
   "metadata": {},
   "outputs": [],
   "source": [
    "'''\n",
    "# All reviews about any healthy products with corresponding metadata\n",
    "merged_healthy_df = pd.concat([healthy_food_df, healthy_sports_df])\n",
    "print(merged_healthy_df.shape)\n",
    "merged_healthy_df.head()\n",
    "'''"
   ]
  },
  {
   "cell_type": "markdown",
   "metadata": {},
   "source": [
    "## Descriptive analysis"
   ]
  },
  {
   "cell_type": "markdown",
   "metadata": {},
   "source": [
    "### Number of reviews per category"
   ]
  },
  {
   "cell_type": "markdown",
   "metadata": {},
   "source": [
    "First, let's try to see what are the types of items that have been reviewed by people by looking at the different categories in the data from **Grocery and Gourmet Food** and **Sports and Outdoors**."
   ]
  },
  {
   "cell_type": "code",
   "execution_count": 5,
   "metadata": {},
   "outputs": [
    {
     "data": {
      "text/html": [
       "<div>\n",
       "<style>\n",
       "    .dataframe thead tr:only-child th {\n",
       "        text-align: right;\n",
       "    }\n",
       "\n",
       "    .dataframe thead th {\n",
       "        text-align: left;\n",
       "    }\n",
       "\n",
       "    .dataframe tbody tr th {\n",
       "        vertical-align: top;\n",
       "    }\n",
       "</style>\n",
       "<table border=\"1\" class=\"dataframe\">\n",
       "  <thead>\n",
       "    <tr style=\"text-align: right;\">\n",
       "      <th></th>\n",
       "      <th>count</th>\n",
       "    </tr>\n",
       "    <tr>\n",
       "      <th>category</th>\n",
       "      <th></th>\n",
       "    </tr>\n",
       "  </thead>\n",
       "  <tbody>\n",
       "    <tr>\n",
       "      <th>Grocery &amp; Gourmet Food</th>\n",
       "      <td>1297156</td>\n",
       "    </tr>\n",
       "    <tr>\n",
       "      <th>Beverages</th>\n",
       "      <td>29736</td>\n",
       "    </tr>\n",
       "    <tr>\n",
       "      <th>Cooking &amp; Baking</th>\n",
       "      <td>22663</td>\n",
       "    </tr>\n",
       "    <tr>\n",
       "      <th>Canned, Dry &amp; Packaged Foods</th>\n",
       "      <td>14287</td>\n",
       "    </tr>\n",
       "    <tr>\n",
       "      <th>Tea</th>\n",
       "      <td>11435</td>\n",
       "    </tr>\n",
       "    <tr>\n",
       "      <th>Herbs, Spices &amp; Seasonings</th>\n",
       "      <td>9921</td>\n",
       "    </tr>\n",
       "    <tr>\n",
       "      <th>Coffee</th>\n",
       "      <td>6909</td>\n",
       "    </tr>\n",
       "    <tr>\n",
       "      <th>Single Herbs &amp; Spices</th>\n",
       "      <td>6602</td>\n",
       "    </tr>\n",
       "    <tr>\n",
       "      <th>Cooking Oils, Vinegars &amp; Sprays</th>\n",
       "      <td>5189</td>\n",
       "    </tr>\n",
       "    <tr>\n",
       "      <th>Oils</th>\n",
       "      <td>4610</td>\n",
       "    </tr>\n",
       "    <tr>\n",
       "      <th>Candy &amp; Chocolate</th>\n",
       "      <td>4596</td>\n",
       "    </tr>\n",
       "    <tr>\n",
       "      <th>Herbal</th>\n",
       "      <td>4415</td>\n",
       "    </tr>\n",
       "    <tr>\n",
       "      <th>Baby Foods</th>\n",
       "      <td>4356</td>\n",
       "    </tr>\n",
       "    <tr>\n",
       "      <th>Snack Foods</th>\n",
       "      <td>4186</td>\n",
       "    </tr>\n",
       "    <tr>\n",
       "      <th>Baby Formula</th>\n",
       "      <td>3954</td>\n",
       "    </tr>\n",
       "    <tr>\n",
       "      <th>Coconut</th>\n",
       "      <td>3525</td>\n",
       "    </tr>\n",
       "    <tr>\n",
       "      <th>Single-Serve Cups</th>\n",
       "      <td>3448</td>\n",
       "    </tr>\n",
       "    <tr>\n",
       "      <th>Sugar Substitutes</th>\n",
       "      <td>3223</td>\n",
       "    </tr>\n",
       "    <tr>\n",
       "      <th>Syrups, Sugars &amp; Sweeteners</th>\n",
       "      <td>3136</td>\n",
       "    </tr>\n",
       "    <tr>\n",
       "      <th>Tea Samplers</th>\n",
       "      <td>3084</td>\n",
       "    </tr>\n",
       "  </tbody>\n",
       "</table>\n",
       "</div>"
      ],
      "text/plain": [
       "                                   count\n",
       "category                                \n",
       "Grocery & Gourmet Food           1297156\n",
       "Beverages                          29736\n",
       "Cooking & Baking                   22663\n",
       "Canned, Dry & Packaged Foods       14287\n",
       "Tea                                11435\n",
       "Herbs, Spices & Seasonings          9921\n",
       "Coffee                              6909\n",
       "Single Herbs & Spices               6602\n",
       "Cooking Oils, Vinegars & Sprays     5189\n",
       "Oils                                4610\n",
       "Candy & Chocolate                   4596\n",
       "Herbal                              4415\n",
       "Baby Foods                          4356\n",
       "Snack Foods                         4186\n",
       "Baby Formula                        3954\n",
       "Coconut                             3525\n",
       "Single-Serve Cups                   3448\n",
       "Sugar Substitutes                   3223\n",
       "Syrups, Sugars & Sweeteners         3136\n",
       "Tea Samplers                        3084"
      ]
     },
     "execution_count": 5,
     "metadata": {},
     "output_type": "execute_result"
    }
   ],
   "source": [
    "food_cat_count_df = pd.read_pickle(DATA_DIR + 'food_cat_count_df')\n",
    "food_cat_count_df.head(20)"
   ]
  },
  {
   "cell_type": "code",
   "execution_count": null,
   "metadata": {},
   "outputs": [],
   "source": [
    "'''\n",
    "sports_cat_count_df = pd.read_pickle(DATA_DIR + 'sports_cat_count_df')\n",
    "sports_cat_count_df.head(20)\n",
    "'''"
   ]
  },
  {
   "cell_type": "markdown",
   "metadata": {},
   "source": [
    "### Truncated time period"
   ]
  },
  {
   "cell_type": "markdown",
   "metadata": {},
   "source": [
    "We also noticed that not all categories have reviews at some period of time. So we decided to truncate our data to only take into consideration the period [2002 - 2013]"
   ]
  },
  {
   "cell_type": "code",
   "execution_count": null,
   "metadata": {},
   "outputs": [],
   "source": [
    "# TODO, truncate the data and replot"
   ]
  },
  {
   "cell_type": "markdown",
   "metadata": {},
   "source": [
    "### Exponential growth of Amazon\n",
    "\n"
   ]
  },
  {
   "cell_type": "markdown",
   "metadata": {},
   "source": [
    "Using the nuber of reviews of a category over time would be a naive approach because of the general growth of Amazon as a whole. Indeed, we can see that Amazon has grown exponentially over the years. So we must find a different strategy to define if a category of products are more popular than others givent the number of reviews."
   ]
  },
  {
   "cell_type": "code",
   "execution_count": 8,
   "metadata": {},
   "outputs": [],
   "source": [
    "# TODO, increase figure sizes"
   ]
  },
  {
   "cell_type": "code",
   "execution_count": 6,
   "metadata": {},
   "outputs": [
    {
     "data": {
      "text/plain": [
       "<matplotlib.axes._subplots.AxesSubplot at 0x7f52738c0908>"
      ]
     },
     "execution_count": 6,
     "metadata": {},
     "output_type": "execute_result"
    },
    {
     "data": {
      "image/png": "[encoded data removed]",
      "text/plain": [
       "<matplotlib.figure.Figure at 0x7f5300d496a0>"
      ]
     },
     "metadata": {},
     "output_type": "display_data"
    }
   ],
   "source": [
    "# Show number of reviews of healthy products for 'Grocery & Gourmet Food' over time\n",
    "sb.countplot(x='yearTime', data=healthy_food_df)"
   ]
  },
  {
   "cell_type": "code",
   "execution_count": 7,
   "metadata": {},
   "outputs": [
    {
     "data": {
      "text/plain": [
       "<matplotlib.axes._subplots.AxesSubplot at 0x7f52c8b59748>"
      ]
     },
     "execution_count": 7,
     "metadata": {},
     "output_type": "execute_result"
    },
    {
     "data": {
      "image/png": "[encoded data removed]",
      "text/plain": [
       "<matplotlib.figure.Figure at 0x7f527383aef0>"
      ]
     },
     "metadata": {},
     "output_type": "display_data"
    }
   ],
   "source": [
    "# Show number of reviews for 'Grocery & Gourmet Food' over time\n",
    "sb.countplot(x='yearTime', data=food_reviews_df)"
   ]
  },
  {
   "cell_type": "markdown",
   "metadata": {},
   "source": [
    "As we can see, it is not possible to define if healthy products are being reviewed more than other categories with the number of reviews only.\n",
    "\n",
    "Same for the Sports category"
   ]
  },
  {
   "cell_type": "code",
   "execution_count": null,
   "metadata": {},
   "outputs": [],
   "source": [
    "'''\n",
    "# Show number of reviews of healthy products for 'Sports & Outdoors' over time\n",
    "sb.countplot(x='yearTime', data=merged_sport_healthy_df)\n",
    "'''"
   ]
  },
  {
   "cell_type": "code",
   "execution_count": null,
   "metadata": {},
   "outputs": [],
   "source": [
    "'''\n",
    "# Show number of reviews for 'Sports & Outdoors' over time\n",
    "sb.countplot(x='yearTime', data=reviews_sport_df)\n",
    "'''"
   ]
  },
  {
   "cell_type": "markdown",
   "metadata": {},
   "source": [
    "## Plan of future milestones"
   ]
  },
  {
   "cell_type": "markdown",
   "metadata": {},
   "source": [
    "### Plan for milestone 3\n",
    "\n",
    "|Week|Expected task|\n",
    "|---|---|\n",
    "|Week 1| Setup the server with a MongoDB instance and a NodeJS server, retrieve the data, filter it and insert it into the database\n",
    "|Week 2| Come up with a clever way of defining the \"hype\" factor and the sentiment analysis labeling (by either using a platform like Google Machine learning API or by creating our own neural network model).\n",
    "|Week 3 - 4| Answer the research questions defined before. Assigning the \"hype\" factor to cateories of products and forecasting it over the upcoming years."
   ]
  },
  {
   "cell_type": "markdown",
   "metadata": {},
   "source": [
    "### Plan of the presentation"
   ]
  }
 ],
 "metadata": {
  "kernelspec": {
   "display_name": "Python [conda root]",
   "language": "python",
   "name": "conda-root-py"
  },
  "language_info": {
   "codemirror_mode": {
    "name": "ipython",
    "version": 3
   },
   "file_extension": ".py",
   "mimetype": "text/x-python",
   "name": "python",
   "nbconvert_exporter": "python",
   "pygments_lexer": "ipython3",
   "version": "3.6.1"
  }
 },
 "nbformat": 4,
 "nbformat_minor": 2
}
