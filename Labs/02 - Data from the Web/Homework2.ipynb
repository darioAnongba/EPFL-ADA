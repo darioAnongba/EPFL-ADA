{
 "cells": [
  {
   "cell_type": "markdown",
   "metadata": {},
   "source": [
    "# Imports"
   ]
  },
  {
   "cell_type": "code",
   "execution_count": 1,
   "metadata": {
    "collapsed": true
   },
   "outputs": [],
   "source": [
    "import requests\n",
    "from bs4 import BeautifulSoup\n",
    "import pandas as pd\n",
    "import numpy as np"
   ]
  },
  {
   "cell_type": "markdown",
   "metadata": {},
   "source": [
    "## Task 1"
   ]
  },
  {
   "cell_type": "markdown",
   "metadata": {},
   "source": [
    "Obtain the 200 top-ranking universities in www.topuniversities.com (ranking 2018). In particular, extract the following fields for each university: name, rank, country and region, number of faculty members (international and total) and number of students (international and total). Some information is not available in the main list and you have to find them in the details page. Store the resulting dataset in a pandas DataFrame and answer the following questions:\n",
    "- Which are the best universities in term of: (a) ratio between faculty members and students, (b) ratio of international students?\n",
    "- Answer the previous question aggregating the data by (c) country and (d) region."
   ]
  },
  {
   "cell_type": "markdown",
   "metadata": {},
   "source": [
    "## Solution"
   ]
  },
  {
   "cell_type": "markdown",
   "metadata": {},
   "source": [
    "### Explanation and assumptions"
   ]
  },
  {
   "cell_type": "markdown",
   "metadata": {},
   "source": [
    "**Explanation**\n",
    "\n",
    "For this task, we have to retrieve the information in 2 separate steps.\n",
    "\n",
    "The first step is to retrieve the data (name of university, rank, country and region) using a simple GET query on a file. We used the Postman extension with the interceptor in order to find this file. The file contains a list of the 1000 best ranked universities sorted by rank. This file contains data in the JSON format.\n",
    "\n",
    "The second step is to retrieve the number of faculty members and the number of students (international and total) for each university by following the details page found in the JSON data. When reaching the details page, we can simply parse the HTML and retrieve the needed information."
   ]
  },
  {
   "cell_type": "markdown",
   "metadata": {},
   "source": [
    "### Code"
   ]
  },
  {
   "cell_type": "code",
   "execution_count": null,
   "metadata": {
    "collapsed": true
   },
   "outputs": [],
   "source": [
    "# Constants\n",
    "TOP_UNIVERSITIES_BASE = 'https://www.topuniversities.com'\n",
    "TOP_UNIVERSITIES_RANKING = TOP_UNIVERSITIES_BASE + '/sites/default/files/qs-rankings-data/357051.txt'\n",
    "column_names = ['name', 'rank_top', 'country', 'region', 'score']\n",
    "names_map = {\n",
    "    'total faculty':'faculty_tot',\n",
    "    'inter faculty': 'faculty_int',\n",
    "    'total student':'student_tot', \n",
    "    'total inter':'student_int'\n",
    "}"
   ]
  },
  {
   "cell_type": "code",
   "execution_count": null,
   "metadata": {
    "collapsed": true
   },
   "outputs": [],
   "source": [
    "ranking = requests.get(TOP_UNIVERSITIES_RANKING)\n",
    "top_200 = ranking.json()['data'][0:200]"
   ]
  },
  {
   "cell_type": "code",
   "execution_count": null,
   "metadata": {
    "collapsed": true
   },
   "outputs": [],
   "source": [
    "universities_top = pd.DataFrame(columns = (column_names + list(names_map.values())))\n",
    "\n",
    "def get_details_info(div_name):\n",
    "    div = soup.find('div',class_=div_name)\n",
    "    if div:\n",
    "        return int(div\n",
    "            .find('div',class_='number')\n",
    "            .text\n",
    "            .replace(\"\\n\",\"\")\n",
    "            .replace(\",\",\"\")\n",
    "            .strip())\n",
    "    else:\n",
    "        return float('NaN')\n",
    "\n",
    "for university in top_200:\n",
    "    row = {\n",
    "        'name': university['title'],\n",
    "        'rank_top': university['rank_display'],\n",
    "        'country': university['country'],\n",
    "        'region': university['region'],\n",
    "        'score': university['score']\n",
    "    }\n",
    "    \n",
    "    details_page_url = TOP_UNIVERSITIES_BASE + university['url']\n",
    "    r = requests.get(details_page_url)\n",
    "    soup = BeautifulSoup(r.text,'html.parser')\n",
    "    \n",
    "    for div_class, column_name in names_map.items():\n",
    "        row[column_name] = get_details_info(div_class)\n",
    "    \n",
    "    universities_top = universities.append(row, ignore_index=True)\n",
    "    \n",
    "universities_top.set_index(['name'])"
   ]
  },
  {
   "cell_type": "code",
   "execution_count": null,
   "metadata": {
    "collapsed": true
   },
   "outputs": [],
   "source": [
    "universities_top"
   ]
  },
  {
   "cell_type": "markdown",
   "metadata": {},
   "source": [
    "## Task 2"
   ]
  },
  {
   "cell_type": "markdown",
   "metadata": {},
   "source": [
    "Obtain the 200 top-ranking universities in www.timeshighereducation.com (ranking 2018). Repeat the analysis of the previous point and discuss briefly what you observed."
   ]
  },
  {
   "cell_type": "markdown",
   "metadata": {},
   "source": [
    "## Solution"
   ]
  },
  {
   "cell_type": "markdown",
   "metadata": {},
   "source": [
    "### Explanation and assumptions"
   ]
  },
  {
   "cell_type": "markdown",
   "metadata": {},
   "source": [
    "**Explanation**\n",
    "\n",
    "For this task, we can retrieve the information in one step.\n",
    "\n",
    "We retrieve the data using a simple GET query on a file. We used the Postman extension with the interceptor in order to find the URL of this file. The file contains the list of the universities sorted by rank. This file contains data in the JSON format.\n",
    "\n",
    "From it we parse the name of university, rank, country, score, total faculty members, total number of student and percentage of international student. \n",
    "\n",
    "We assume that the faculty members are the people who work for the students. So we retrieve the ratio of student per staff members and compute the total faculty members using this ratio and the total number of students. \n",
    "\n",
    "The number of international students is computed using the percentage retrieved on the website and the total number of students. \n",
    "\n",
    "We also ceil any value that we found since it is meaningless to have a non integer number of people."
   ]
  },
  {
   "cell_type": "markdown",
   "metadata": {},
   "source": [
    "## Code"
   ]
  },
  {
   "cell_type": "code",
   "execution_count": 3,
   "metadata": {
    "collapsed": true
   },
   "outputs": [],
   "source": [
    "# Constants\n",
    "TIMES_BASE = 'https://www.timeshighereducation.com'\n",
    "TIMES_RANKING = TIMES_BASE + '/sites/default/files/the_data_rankings/world_university_rankings_2018_limit0_369a9045a203e176392b9fb8f8c1cb2a.json'\n",
    "column_names = ['name', 'rank_times', 'country', 'score']\n",
    "names_map = {\n",
    "    'total faculty':'faculty_tot',\n",
    "    'total student':'student_tot', \n",
    "    'total inter':'student_int'\n",
    "}"
   ]
  },
  {
   "cell_type": "code",
   "execution_count": 4,
   "metadata": {
    "collapsed": true
   },
   "outputs": [],
   "source": [
    "ranking = requests.get(TIMES_RANKING)\n",
    "top_200 = ranking.json()['data'][:20]"
   ]
  },
  {
   "cell_type": "code",
   "execution_count": 6,
   "metadata": {},
   "outputs": [],
   "source": [
    "universities_times = pd.DataFrame(columns = (column_names + list(names_map.values())))\n",
    "\n",
    "def to_int(value):\n",
    "    return int(value.replace(\",\",\"\").replace('%',\"\"))\n",
    "\n",
    "for university in top_200:\n",
    "    row = {\n",
    "        'name': university['name'],\n",
    "        'rank_times': university['rank'],\n",
    "        'country': university['location'],\n",
    "        'score': university['scores_overall'],\n",
    "        'faculty_tot': np.ceil(to_int(university['stats_number_students']) / float(university['stats_student_staff_ratio'])),   \n",
    "        'student_tot': university['stats_number_students'],   \n",
    "        'student_int': np.ceil(to_int(university['stats_number_students']) * (to_int(university['stats_pc_intl_students']) / 100)),   \n",
    "    }\n",
    "        \n",
    "    universities_times = universities_times.append(row, ignore_index=True)\n",
    "\n",
    "universities_times = universities_times.set_index(['name'])"
   ]
  },
  {
   "cell_type": "code",
   "execution_count": 7,
   "metadata": {},
   "outputs": [
    {
     "data": {
      "text/html": [
       "<div>\n",
       "<style>\n",
       "    .dataframe thead tr:only-child th {\n",
       "        text-align: right;\n",
       "    }\n",
       "\n",
       "    .dataframe thead th {\n",
       "        text-align: left;\n",
       "    }\n",
       "\n",
       "    .dataframe tbody tr th {\n",
       "        vertical-align: top;\n",
       "    }\n",
       "</style>\n",
       "<table border=\"1\" class=\"dataframe\">\n",
       "  <thead>\n",
       "    <tr style=\"text-align: right;\">\n",
       "      <th></th>\n",
       "      <th>rank_times</th>\n",
       "      <th>country</th>\n",
       "      <th>score</th>\n",
       "      <th>faculty_tot</th>\n",
       "      <th>student_tot</th>\n",
       "      <th>student_int</th>\n",
       "    </tr>\n",
       "    <tr>\n",
       "      <th>name</th>\n",
       "      <th></th>\n",
       "      <th></th>\n",
       "      <th></th>\n",
       "      <th></th>\n",
       "      <th></th>\n",
       "      <th></th>\n",
       "    </tr>\n",
       "  </thead>\n",
       "  <tbody>\n",
       "    <tr>\n",
       "      <th>University of Oxford</th>\n",
       "      <td>1</td>\n",
       "      <td>United Kingdom</td>\n",
       "      <td>94.3</td>\n",
       "      <td>1823.0</td>\n",
       "      <td>20,409</td>\n",
       "      <td>7756.0</td>\n",
       "    </tr>\n",
       "    <tr>\n",
       "      <th>University of Cambridge</th>\n",
       "      <td>2</td>\n",
       "      <td>United Kingdom</td>\n",
       "      <td>93.2</td>\n",
       "      <td>1688.0</td>\n",
       "      <td>18,389</td>\n",
       "      <td>6437.0</td>\n",
       "    </tr>\n",
       "    <tr>\n",
       "      <th>California Institute of Technology</th>\n",
       "      <td>=3</td>\n",
       "      <td>United States</td>\n",
       "      <td>93.0</td>\n",
       "      <td>340.0</td>\n",
       "      <td>2,209</td>\n",
       "      <td>597.0</td>\n",
       "    </tr>\n",
       "    <tr>\n",
       "      <th>Stanford University</th>\n",
       "      <td>=3</td>\n",
       "      <td>United States</td>\n",
       "      <td>93.0</td>\n",
       "      <td>2113.0</td>\n",
       "      <td>15,845</td>\n",
       "      <td>3486.0</td>\n",
       "    </tr>\n",
       "    <tr>\n",
       "      <th>Massachusetts Institute of Technology</th>\n",
       "      <td>5</td>\n",
       "      <td>United States</td>\n",
       "      <td>92.5</td>\n",
       "      <td>1285.0</td>\n",
       "      <td>11,177</td>\n",
       "      <td>3801.0</td>\n",
       "    </tr>\n",
       "    <tr>\n",
       "      <th>Harvard University</th>\n",
       "      <td>6</td>\n",
       "      <td>United States</td>\n",
       "      <td>91.8</td>\n",
       "      <td>2284.0</td>\n",
       "      <td>20,326</td>\n",
       "      <td>5285.0</td>\n",
       "    </tr>\n",
       "    <tr>\n",
       "      <th>Princeton University</th>\n",
       "      <td>7</td>\n",
       "      <td>United States</td>\n",
       "      <td>91.1</td>\n",
       "      <td>959.0</td>\n",
       "      <td>7,955</td>\n",
       "      <td>1910.0</td>\n",
       "    </tr>\n",
       "    <tr>\n",
       "      <th>Imperial College London</th>\n",
       "      <td>8</td>\n",
       "      <td>United Kingdom</td>\n",
       "      <td>89.2</td>\n",
       "      <td>1391.0</td>\n",
       "      <td>15,857</td>\n",
       "      <td>8722.0</td>\n",
       "    </tr>\n",
       "    <tr>\n",
       "      <th>University of Chicago</th>\n",
       "      <td>9</td>\n",
       "      <td>United States</td>\n",
       "      <td>88.6</td>\n",
       "      <td>2182.0</td>\n",
       "      <td>13,525</td>\n",
       "      <td>3382.0</td>\n",
       "    </tr>\n",
       "    <tr>\n",
       "      <th>ETH Zurich – Swiss Federal Institute of Technology Zurich</th>\n",
       "      <td>=10</td>\n",
       "      <td>Switzerland</td>\n",
       "      <td>87.7</td>\n",
       "      <td>1318.0</td>\n",
       "      <td>19,233</td>\n",
       "      <td>7309.0</td>\n",
       "    </tr>\n",
       "    <tr>\n",
       "      <th>University of Pennsylvania</th>\n",
       "      <td>=10</td>\n",
       "      <td>United States</td>\n",
       "      <td>87.7</td>\n",
       "      <td>3133.0</td>\n",
       "      <td>20,361</td>\n",
       "      <td>4073.0</td>\n",
       "    </tr>\n",
       "    <tr>\n",
       "      <th>Yale University</th>\n",
       "      <td>12</td>\n",
       "      <td>United States</td>\n",
       "      <td>87.6</td>\n",
       "      <td>2827.0</td>\n",
       "      <td>12,155</td>\n",
       "      <td>2553.0</td>\n",
       "    </tr>\n",
       "    <tr>\n",
       "      <th>Johns Hopkins University</th>\n",
       "      <td>13</td>\n",
       "      <td>United States</td>\n",
       "      <td>86.5</td>\n",
       "      <td>3605.0</td>\n",
       "      <td>15,498</td>\n",
       "      <td>3720.0</td>\n",
       "    </tr>\n",
       "    <tr>\n",
       "      <th>Columbia University</th>\n",
       "      <td>14</td>\n",
       "      <td>United States</td>\n",
       "      <td>86.0</td>\n",
       "      <td>4359.0</td>\n",
       "      <td>26,587</td>\n",
       "      <td>8508.0</td>\n",
       "    </tr>\n",
       "    <tr>\n",
       "      <th>University of California, Los Angeles</th>\n",
       "      <td>15</td>\n",
       "      <td>United States</td>\n",
       "      <td>85.7</td>\n",
       "      <td>4092.0</td>\n",
       "      <td>39,279</td>\n",
       "      <td>6678.0</td>\n",
       "    </tr>\n",
       "    <tr>\n",
       "      <th>University College London</th>\n",
       "      <td>16</td>\n",
       "      <td>United Kingdom</td>\n",
       "      <td>85.3</td>\n",
       "      <td>2887.0</td>\n",
       "      <td>30,304</td>\n",
       "      <td>14849.0</td>\n",
       "    </tr>\n",
       "    <tr>\n",
       "      <th>Duke University</th>\n",
       "      <td>17</td>\n",
       "      <td>United States</td>\n",
       "      <td>85.1</td>\n",
       "      <td>3391.0</td>\n",
       "      <td>15,256</td>\n",
       "      <td>3357.0</td>\n",
       "    </tr>\n",
       "    <tr>\n",
       "      <th>University of California, Berkeley</th>\n",
       "      <td>18</td>\n",
       "      <td>United States</td>\n",
       "      <td>84.3</td>\n",
       "      <td>2762.0</td>\n",
       "      <td>36,182</td>\n",
       "      <td>6151.0</td>\n",
       "    </tr>\n",
       "    <tr>\n",
       "      <th>Cornell University</th>\n",
       "      <td>19</td>\n",
       "      <td>United States</td>\n",
       "      <td>84.2</td>\n",
       "      <td>2230.0</td>\n",
       "      <td>21,850</td>\n",
       "      <td>5244.0</td>\n",
       "    </tr>\n",
       "    <tr>\n",
       "      <th>Northwestern University</th>\n",
       "      <td>20</td>\n",
       "      <td>United States</td>\n",
       "      <td>83.3</td>\n",
       "      <td>1365.0</td>\n",
       "      <td>17,466</td>\n",
       "      <td>3144.0</td>\n",
       "    </tr>\n",
       "  </tbody>\n",
       "</table>\n",
       "</div>"
      ],
      "text/plain": [
       "                                                   rank_times         country  \\\n",
       "name                                                                            \n",
       "University of Oxford                                        1  United Kingdom   \n",
       "University of Cambridge                                     2  United Kingdom   \n",
       "California Institute of Technology                         =3   United States   \n",
       "Stanford University                                        =3   United States   \n",
       "Massachusetts Institute of Technology                       5   United States   \n",
       "Harvard University                                          6   United States   \n",
       "Princeton University                                        7   United States   \n",
       "Imperial College London                                     8  United Kingdom   \n",
       "University of Chicago                                       9   United States   \n",
       "ETH Zurich – Swiss Federal Institute of Technol...        =10     Switzerland   \n",
       "University of Pennsylvania                                =10   United States   \n",
       "Yale University                                            12   United States   \n",
       "Johns Hopkins University                                   13   United States   \n",
       "Columbia University                                        14   United States   \n",
       "University of California, Los Angeles                      15   United States   \n",
       "University College London                                  16  United Kingdom   \n",
       "Duke University                                            17   United States   \n",
       "University of California, Berkeley                         18   United States   \n",
       "Cornell University                                         19   United States   \n",
       "Northwestern University                                    20   United States   \n",
       "\n",
       "                                                   score  faculty_tot  \\\n",
       "name                                                                    \n",
       "University of Oxford                                94.3       1823.0   \n",
       "University of Cambridge                             93.2       1688.0   \n",
       "California Institute of Technology                  93.0        340.0   \n",
       "Stanford University                                 93.0       2113.0   \n",
       "Massachusetts Institute of Technology               92.5       1285.0   \n",
       "Harvard University                                  91.8       2284.0   \n",
       "Princeton University                                91.1        959.0   \n",
       "Imperial College London                             89.2       1391.0   \n",
       "University of Chicago                               88.6       2182.0   \n",
       "ETH Zurich – Swiss Federal Institute of Technol...  87.7       1318.0   \n",
       "University of Pennsylvania                          87.7       3133.0   \n",
       "Yale University                                     87.6       2827.0   \n",
       "Johns Hopkins University                            86.5       3605.0   \n",
       "Columbia University                                 86.0       4359.0   \n",
       "University of California, Los Angeles               85.7       4092.0   \n",
       "University College London                           85.3       2887.0   \n",
       "Duke University                                     85.1       3391.0   \n",
       "University of California, Berkeley                  84.3       2762.0   \n",
       "Cornell University                                  84.2       2230.0   \n",
       "Northwestern University                             83.3       1365.0   \n",
       "\n",
       "                                                   student_tot  student_int  \n",
       "name                                                                         \n",
       "University of Oxford                                    20,409       7756.0  \n",
       "University of Cambridge                                 18,389       6437.0  \n",
       "California Institute of Technology                       2,209        597.0  \n",
       "Stanford University                                     15,845       3486.0  \n",
       "Massachusetts Institute of Technology                   11,177       3801.0  \n",
       "Harvard University                                      20,326       5285.0  \n",
       "Princeton University                                     7,955       1910.0  \n",
       "Imperial College London                                 15,857       8722.0  \n",
       "University of Chicago                                   13,525       3382.0  \n",
       "ETH Zurich – Swiss Federal Institute of Technol...      19,233       7309.0  \n",
       "University of Pennsylvania                              20,361       4073.0  \n",
       "Yale University                                         12,155       2553.0  \n",
       "Johns Hopkins University                                15,498       3720.0  \n",
       "Columbia University                                     26,587       8508.0  \n",
       "University of California, Los Angeles                   39,279       6678.0  \n",
       "University College London                               30,304      14849.0  \n",
       "Duke University                                         15,256       3357.0  \n",
       "University of California, Berkeley                      36,182       6151.0  \n",
       "Cornell University                                      21,850       5244.0  \n",
       "Northwestern University                                 17,466       3144.0  "
      ]
     },
     "execution_count": 7,
     "metadata": {},
     "output_type": "execute_result"
    }
   ],
   "source": [
    "universities_times"
   ]
  },
  {
   "cell_type": "code",
   "execution_count": null,
   "metadata": {
    "collapsed": true
   },
   "outputs": [],
   "source": []
  }
 ],
 "metadata": {
  "kernelspec": {
   "display_name": "Python [conda root]",
   "language": "python",
   "name": "conda-root-py"
  },
  "language_info": {
   "codemirror_mode": {
    "name": "ipython",
    "version": 3
   },
   "file_extension": ".py",
   "mimetype": "text/x-python",
   "name": "python",
   "nbconvert_exporter": "python",
   "pygments_lexer": "ipython3",
   "version": "3.6.1"
  }
 },
 "nbformat": 4,
 "nbformat_minor": 2
}
