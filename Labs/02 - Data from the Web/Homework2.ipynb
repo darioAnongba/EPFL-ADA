{
 "cells": [
  {
   "cell_type": "markdown",
   "metadata": {},
   "source": [
    "# Imports"
   ]
  },
  {
   "cell_type": "code",
   "execution_count": null,
   "metadata": {
    "collapsed": true
   },
   "outputs": [],
   "source": [
    "%matplotlib inline\n",
    "import requests\n",
    "from bs4 import BeautifulSoup\n",
    "import pandas as pd\n",
    "import numpy as np\n",
    "import matplotlib.pyplot as plt\n",
    "import seaborn as sns"
   ]
  },
  {
   "cell_type": "markdown",
   "metadata": {},
   "source": [
    "## Task 1"
   ]
  },
  {
   "cell_type": "markdown",
   "metadata": {},
   "source": [
    "Obtain the 200 top-ranking universities in www.topuniversities.com (ranking 2018). In particular, extract the following fields for each university: name, rank, country and region, number of faculty members (international and total) and number of students (international and total). Some information is not available in the main list and you have to find them in the details page. Store the resulting dataset in a pandas DataFrame and answer the following questions:\n",
    "- Which are the best universities in term of: (a) ratio between faculty members and students, (b) ratio of international students?\n",
    "- Answer the previous question aggregating the data by (c) country and (d) region."
   ]
  },
  {
   "cell_type": "markdown",
   "metadata": {},
   "source": [
    "## Solution"
   ]
  },
  {
   "cell_type": "markdown",
   "metadata": {},
   "source": [
    "### Explanation and assumptions"
   ]
  },
  {
   "cell_type": "markdown",
   "metadata": {},
   "source": [
    "**Explanation**\n",
    "\n",
    "For this task, we have to retrieve the information in 2 separate steps.\n",
    "\n",
    "The first step is to retrieve the data (name of university, rank, country and region) using a simple GET query on a file. We used the Postman extension with the interceptor in order to find this file. The file contains a list of the 1000 best ranked universities sorted by rank. This file contains data in the JSON format.\n",
    "\n",
    "The second step is to retrieve the number of faculty members and the number of students (international and total) for each university by following the details page found in the JSON data. When reaching the details page, we can simply parse the HTML and retrieve the needed information.\n",
    "\n",
    "**Assumptions**\n",
    "\n",
    "Some universities do not have statistics for the number of students and the number of faculty members so we store NaN for those features.\n",
    "\n",
    "We also store the score of the university even if not asked in order to use it in the next steps"
   ]
  },
  {
   "cell_type": "markdown",
   "metadata": {},
   "source": [
    "### Data retrieving"
   ]
  },
  {
   "cell_type": "code",
   "execution_count": null,
   "metadata": {
    "collapsed": true
   },
   "outputs": [],
   "source": [
    "# Constants\n",
    "\n",
    "TOP_UNIVERSITIES_BASE = 'https://www.topuniversities.com'\n",
    "TOP_UNIVERSITIES_RANKING = TOP_UNIVERSITIES_BASE + '/sites/default/files/qs-rankings-data/357051.txt'\n",
    "column_names = ['name', 'rank_top', 'country', 'region', 'score']\n",
    "\n",
    "# mapping between div class names in the HTML and the column name in the dataframe\n",
    "names_map = {\n",
    "    'total faculty': 'faculty_tot',\n",
    "    'inter faculty': 'faculty_int',\n",
    "    'total student': 'student_tot', \n",
    "    'total inter': 'student_int'\n",
    "}"
   ]
  },
  {
   "cell_type": "code",
   "execution_count": null,
   "metadata": {
    "collapsed": true
   },
   "outputs": [],
   "source": [
    "ranking = requests.get(TOP_UNIVERSITIES_RANKING)\n",
    "top_200 = ranking.json()['data'][:200]"
   ]
  },
  {
   "cell_type": "code",
   "execution_count": null,
   "metadata": {
    "collapsed": true
   },
   "outputs": [],
   "source": [
    "# Creates an empty dataframe with the desired columns\n",
    "universities_top = pd.DataFrame(columns = (column_names + list(names_map.values())))\n",
    "\n",
    "# Utilitary function to get the statistics information needed in the details page\n",
    "def get_details_info(div_name):\n",
    "    div = soup.find('div', class_=div_name)\n",
    "    if div:\n",
    "        return int(div\n",
    "            .find('div', class_='number')\n",
    "            .text\n",
    "            .replace(\"\\n\", \"\")\n",
    "            .replace(\",\", \"\")\n",
    "            .strip())\n",
    "    else:\n",
    "        return float('NaN')\n",
    "\n",
    "for university in top_200:\n",
    "    row = {\n",
    "        'name': university['title'],\n",
    "        'rank_top': university['rank_display'],\n",
    "        'country': university['country'],\n",
    "        'region': university['region'],\n",
    "        'score': university['score']\n",
    "    }\n",
    "    \n",
    "    # For each university, we visit its detail page and retrieve the remanining statistics\n",
    "    details_page_url = TOP_UNIVERSITIES_BASE + university['url']\n",
    "    r = requests.get(details_page_url)\n",
    "    soup = BeautifulSoup(r.text,'html.parser')\n",
    "    \n",
    "    for div_class, column_name in names_map.items():\n",
    "        row[column_name] = get_details_info(div_class)\n",
    "    \n",
    "    universities_top = universities_top.append(row, ignore_index=True)"
   ]
  },
  {
   "cell_type": "code",
   "execution_count": null,
   "metadata": {},
   "outputs": [],
   "source": [
    "universities_top.head()"
   ]
  },
  {
   "cell_type": "markdown",
   "metadata": {},
   "source": [
    "### 1) Which are the best universities in term of"
   ]
  },
  {
   "cell_type": "markdown",
   "metadata": {},
   "source": [
    "We first define a little utilitary function to plot bar plots"
   ]
  },
  {
   "cell_type": "code",
   "execution_count": null,
   "metadata": {
    "collapsed": true
   },
   "outputs": [],
   "source": [
    "def custom_bar_plot(x, y, data, title):\n",
    "    fig, ax = plt.subplots(figsize=(10, 7))\n",
    "    ax.set_title(title, fontsize=15, fontweight='bold')\n",
    "    sns.barplot(x=x, y=y, data=data)\n",
    "    locs, labels = plt.xticks()\n",
    "    plt.setp(labels, rotation=90)"
   ]
  },
  {
   "cell_type": "markdown",
   "metadata": {},
   "source": [
    "**(a) ratio between faculty members and students**"
   ]
  },
  {
   "cell_type": "markdown",
   "metadata": {},
   "source": [
    "Here we just need to compute the ratio into a new column and sort by that column. We also drop the columns with NaN's because it means that we don't have that information"
   ]
  },
  {
   "cell_type": "markdown",
   "metadata": {},
   "source": [
    "**Plotting this information in bar plots does not make sense as there are too many universities, so we decided to plot only the top 10 universities for this metric (as told by the TAs)**"
   ]
  },
  {
   "cell_type": "markdown",
   "metadata": {},
   "source": [
    "We notice that the ranking of a university is not directly related to the number of staff members it has."
   ]
  },
  {
   "cell_type": "code",
   "execution_count": null,
   "metadata": {},
   "outputs": [],
   "source": [
    "def ratio_faculty_students(df, columns):\n",
    "    df['ratio_faculty_students'] = df['faculty_tot'] / df['student_tot']\n",
    "    return df[columns].dropna()\n",
    "\n",
    "data = ratio_faculty_students(universities_top, ['name', 'ratio_faculty_students']).sort_values('ratio_faculty_students', ascending=False)\n",
    "custom_bar_plot('name', 'ratio_faculty_students', data[:10], 'Faculty members per student')"
   ]
  },
  {
   "cell_type": "markdown",
   "metadata": {},
   "source": [
    "**(b) ratio of international students?**"
   ]
  },
  {
   "cell_type": "markdown",
   "metadata": {},
   "source": [
    "Same here, we plot only the top 10 universities as there are too many."
   ]
  },
  {
   "cell_type": "markdown",
   "metadata": {},
   "source": [
    "We notice that London universities have many international students and that EPFL is the second one in the world! This is surprising for an engineering school as one might think that political science universities in Geneva would have more international students."
   ]
  },
  {
   "cell_type": "code",
   "execution_count": null,
   "metadata": {},
   "outputs": [],
   "source": [
    "def ratio_int(df, columns):\n",
    "    df['ratio_int_students'] = df['student_int'] / df['student_tot']\n",
    "    return df[columns].dropna()\n",
    "\n",
    "data = ratio_int(universities_top, ['name', 'ratio_int_students']).sort_values('ratio_int_students', ascending=False)\n",
    "custom_bar_plot('name', 'ratio_int_students', data[:10], 'Ratio of international students')"
   ]
  },
  {
   "cell_type": "markdown",
   "metadata": {},
   "source": [
    "### Answer the previous question aggregating the data by"
   ]
  },
  {
   "cell_type": "markdown",
   "metadata": {},
   "source": [
    "**c) country**"
   ]
  },
  {
   "cell_type": "markdown",
   "metadata": {},
   "source": [
    "Ratio of faculty members and students"
   ]
  },
  {
   "cell_type": "code",
   "execution_count": null,
   "metadata": {
    "collapsed": true
   },
   "outputs": [],
   "source": [
    "universities_grouped_country = universities_top[['country', 'faculty_tot', 'student_tot', 'student_int']].groupby(['country'], as_index=False).sum()"
   ]
  },
  {
   "cell_type": "code",
   "execution_count": null,
   "metadata": {},
   "outputs": [],
   "source": [
    "data = ratio_faculty_students(universities_grouped_country, ['country', 'ratio_faculty_students'])\n",
    "custom_bar_plot('country', 'ratio_faculty_students', data, 'Faculty members per student per country')"
   ]
  },
  {
   "cell_type": "markdown",
   "metadata": {},
   "source": [
    "The country with the most faculty members per student is Russia and the country with the less is Italy."
   ]
  },
  {
   "cell_type": "markdown",
   "metadata": {},
   "source": [
    "Ratio of international students"
   ]
  },
  {
   "cell_type": "code",
   "execution_count": null,
   "metadata": {},
   "outputs": [],
   "source": [
    "data = ratio_int(universities_grouped_country, ['country', 'ratio_int_students'])\n",
    "custom_bar_plot('country', 'ratio_int_students', data, 'International students ratio per country')"
   ]
  },
  {
   "cell_type": "markdown",
   "metadata": {},
   "source": [
    "India and Mexico have almost no international students while Australia is the country with the most."
   ]
  },
  {
   "cell_type": "markdown",
   "metadata": {},
   "source": [
    "**d) region**"
   ]
  },
  {
   "cell_type": "markdown",
   "metadata": {},
   "source": [
    "Ratio of faculty members and students"
   ]
  },
  {
   "cell_type": "code",
   "execution_count": null,
   "metadata": {
    "collapsed": true
   },
   "outputs": [],
   "source": [
    "universities_grouped_region = universities_top[['region', 'faculty_tot', 'student_tot', 'student_int']].groupby(['region'], as_index=False).sum()"
   ]
  },
  {
   "cell_type": "code",
   "execution_count": null,
   "metadata": {},
   "outputs": [],
   "source": [
    "data = ratio_faculty_students(universities_grouped_region, ['region', 'ratio_faculty_students'])\n",
    "custom_bar_plot('region', 'ratio_faculty_students', data, 'Faculty members per student per region')"
   ]
  },
  {
   "cell_type": "markdown",
   "metadata": {},
   "source": [
    "As seen in the previous plot, asian universities have more staff members than other regions."
   ]
  },
  {
   "cell_type": "markdown",
   "metadata": {},
   "source": [
    "Ratio of international students"
   ]
  },
  {
   "cell_type": "code",
   "execution_count": null,
   "metadata": {},
   "outputs": [],
   "source": [
    "data = ratio_int(universities_grouped_region, ['region', 'ratio_int_students'])\n",
    "custom_bar_plot('region', 'ratio_int_students', data, 'International students ratio per region')"
   ]
  },
  {
   "cell_type": "markdown",
   "metadata": {},
   "source": [
    "Here we see that Oceania is the region with most international students because Australia was the country with the most international students and was one of the only countries in the top 200 being from Oceania.\n",
    "So we can consider this "
   ]
  },
  {
   "cell_type": "markdown",
   "metadata": {},
   "source": [
    "## Task 2"
   ]
  },
  {
   "cell_type": "markdown",
   "metadata": {},
   "source": [
    "Obtain the 200 top-ranking universities in www.timeshighereducation.com (ranking 2018). Repeat the analysis of the previous point and discuss briefly what you observed."
   ]
  },
  {
   "cell_type": "markdown",
   "metadata": {},
   "source": [
    "## Solution"
   ]
  },
  {
   "cell_type": "markdown",
   "metadata": {},
   "source": [
    "### Explanation and assumptions"
   ]
  },
  {
   "cell_type": "markdown",
   "metadata": {},
   "source": [
    "**Explanation**\n",
    "\n",
    "For this task, we can retrieve the information in one step.\n",
    "\n",
    "We retrieve the data using a simple GET query on a file. We used the Postman extension with the interceptor in order to find the URL of this file. The file contains the list of the universities sorted by rank. This file contains data in the JSON format.\n",
    "\n",
    "From it we parse the name of university, rank, country, score, total faculty members, total number of student and percentage of international student. \n",
    "\n",
    "We use the first dataframe to fetch the region of a university and if no region can be found we will use the country as its own region. We do this because statistics of unknown region is meaningless.\n",
    "\n",
    "We assume that the faculty members are the people who work for the students. So we retrieve the ratio of student per staff members and compute the total faculty members using this ratio and the total number of students. \n",
    "\n",
    "The number of international students is computed using the percentage retrieved on the website and the total number of students. \n",
    "\n",
    "We also ceil any value that we found since it is meaningless to have a non integer number of people."
   ]
  },
  {
   "cell_type": "markdown",
   "metadata": {},
   "source": [
    "## Code"
   ]
  },
  {
   "cell_type": "code",
   "execution_count": null,
   "metadata": {
    "collapsed": true
   },
   "outputs": [],
   "source": [
    "# Constants\n",
    "PERCENT_FORMAT = \"%.1f%%\"\n",
    "TIMES_BASE = 'https://www.timeshighereducation.com'\n",
    "TIMES_RANKING = TIMES_BASE + '/sites/default/files/the_data_rankings/world_university_rankings_2018_limit0_369a9045a203e176392b9fb8f8c1cb2a.json'\n",
    "column_names = ['name', 'rank_times', 'country', 'region', 'score']\n",
    "names_map = {\n",
    "    'total faculty':'faculty_tot',\n",
    "    'total student':'student_tot', \n",
    "    'total inter':'student_int'\n",
    "}"
   ]
  },
  {
   "cell_type": "code",
   "execution_count": null,
   "metadata": {
    "collapsed": true
   },
   "outputs": [],
   "source": [
    "ranking = requests.get(TIMES_RANKING)\n",
    "top_200 = ranking.json()['data'][:200]"
   ]
  },
  {
   "cell_type": "code",
   "execution_count": null,
   "metadata": {
    "collapsed": true
   },
   "outputs": [],
   "source": [
    "universities_times = pd.DataFrame(columns = (column_names + list(names_map.values())))\n",
    "\n",
    "# Retrieve the regions of a country from the first Dataframe\n",
    "def get_region(country):\n",
    "    # Get rows where country is the same and filter to have only the region\n",
    "    res = universities_top[universities_top['country']==country]['region']\n",
    "    \n",
    "    # Check that there is a result\n",
    "    if len(res):\n",
    "        region = res.iloc[0]\n",
    "        return region\n",
    "    else:\n",
    "        return country\n",
    "\n",
    "def to_int(value):\n",
    "    return int(value.replace(\",\",\"\").replace('%',\"\"))\n",
    "\n",
    "for university in top_200:\n",
    "    row = {\n",
    "        'name': university['name'],\n",
    "        'rank_times': university['rank'],\n",
    "        'country': university['location'],\n",
    "        'region' : get_region(university['location'].strip()),\n",
    "        'score': university['scores_overall'],\n",
    "        'faculty_tot': np.ceil(to_int(university['stats_number_students']) / float(university['stats_student_staff_ratio'])),   \n",
    "        'student_tot': to_int(university['stats_number_students']),\n",
    "        'student_int': np.ceil(to_int(university['stats_number_students']) * (to_int(university['stats_pc_intl_students']) / 100)),   \n",
    "    }\n",
    "        \n",
    "    universities_times = universities_times.append(row, ignore_index=True)\n",
    "\n",
    "universities_times['student_tot'] = universities_times['student_tot'].astype(int)"
   ]
  },
  {
   "cell_type": "code",
   "execution_count": null,
   "metadata": {},
   "outputs": [],
   "source": [
    "universities_times.head(10)"
   ]
  },
  {
   "cell_type": "markdown",
   "metadata": {
    "collapsed": true
   },
   "source": [
    "#### a) ratio between faculty members and students"
   ]
  },
  {
   "cell_type": "markdown",
   "metadata": {},
   "source": [
    "##### Explanation\n",
    "\n",
    "We simply compute the ratio of total faculty members over the total number of students with the value we retrieved\n"
   ]
  },
  {
   "cell_type": "code",
   "execution_count": null,
   "metadata": {},
   "outputs": [],
   "source": [
    "# Compute the ratio\n",
    "universities_times['fac/stud'] = universities_times['faculty_tot'] / universities_times['student_tot']\n",
    "\n",
    "# Convert it to float\n",
    "universities_times['fac/stud'] = universities_times['fac/stud'].astype(float)\n",
    "\n",
    "# Remove unwanted columns\n",
    "fac_stud_ratio = universities_times[['name','fac/stud','country','region']]\n",
    "\n",
    "# Sort on the ratio\n",
    "fac_stud_ratio = fac_stud_ratio.sort_values(['fac/stud'],ascending=False)\n",
    "\n",
    "\n",
    "show = fac_stud_ratio.copy()\n",
    "custom_bar_plot('name', 'fac/stud', show[:10], 'Faculty members per student')"
   ]
  },
  {
   "cell_type": "markdown",
   "metadata": {},
   "source": [
    "##### Results\n",
    "\n",
    "Universities of the United State has 7 out of 10 places in the top 10"
   ]
  },
  {
   "cell_type": "markdown",
   "metadata": {},
   "source": [
    "#### b) ratio of international students"
   ]
  },
  {
   "cell_type": "markdown",
   "metadata": {},
   "source": [
    "##### Explanation\n",
    "\n",
    "Same here we compute the ratio of international student over the total number of student with the value we retrieved"
   ]
  },
  {
   "cell_type": "code",
   "execution_count": null,
   "metadata": {},
   "outputs": [],
   "source": [
    "# Compute ratio\n",
    "universities_times['int/stud'] = universities_times['student_int'] / universities_times['student_tot']\n",
    "\n",
    "# Convert it to float\n",
    "universities_times['int/stud'] = universities_times['int/stud'].astype(float)\n",
    "\n",
    "# Remove unwanted columns\n",
    "int_total_student = universities_times[['name','int/stud','country','region']]\n",
    "\n",
    "# Sort on the ratio\n",
    "int_total_student = int_total_student.sort_values(['int/stud'],ascending=False)\n",
    "\n",
    "show = int_total_student.copy()\n",
    "custom_bar_plot('name', 'int/stud', show[:10], 'Ratio of international students')"
   ]
  },
  {
   "cell_type": "markdown",
   "metadata": {},
   "source": [
    "##### Results\n",
    "\n",
    "The universities with the largest ratio of international student are the one located in Capitals and large cities. Here the United Kingdom has 5 out of 10 places in the top universities according to this ratio."
   ]
  },
  {
   "cell_type": "markdown",
   "metadata": {},
   "source": [
    "#### c)  \n",
    "##### Explanation\n",
    "\n",
    "To Aggregate we will fisrt sum all the student and inteernational student by Country and them compute the ratio. This way we will not give the same weight to smaller universities compared to larger ones.\n",
    "\n",
    "##### 1) ratio between faculty members and students aggregated by country"
   ]
  },
  {
   "cell_type": "code",
   "execution_count": null,
   "metadata": {
    "collapsed": true
   },
   "outputs": [],
   "source": [
    "times_uni_grouped_country = universities_times[['country', 'faculty_tot', 'student_tot', 'student_int']].groupby(['country'], as_index=False).sum()"
   ]
  },
  {
   "cell_type": "code",
   "execution_count": null,
   "metadata": {},
   "outputs": [],
   "source": [
    "data = ratio_faculty_students(times_uni_grouped_country, ['country', 'ratio_faculty_students'])\n",
    "custom_bar_plot('country', 'ratio_faculty_students', data, 'Faculty members per student per country')"
   ]
  },
  {
   "cell_type": "markdown",
   "metadata": {},
   "source": [
    "##### Results\n",
    "\n",
    "When aggrating by country the results show that the first ones are not necessarily the ones with the best ranking on the site"
   ]
  },
  {
   "cell_type": "markdown",
   "metadata": {},
   "source": [
    "##### 2) ratio of international students aggregated by country"
   ]
  },
  {
   "cell_type": "code",
   "execution_count": null,
   "metadata": {},
   "outputs": [],
   "source": [
    "data = ratio_int(times_uni_grouped_country, ['country', 'ratio_int_students'])\n",
    "custom_bar_plot('country', 'ratio_int_students', data, 'International students ratio per country')"
   ]
  },
  {
   "cell_type": "markdown",
   "metadata": {},
   "source": [
    "##### Results\n",
    "\n",
    "Even if the United States is a large and leading country, US universities are devanced by smaller countries like Luxembourg, Hong Kong, Singapore and New Zealand."
   ]
  },
  {
   "cell_type": "markdown",
   "metadata": {},
   "source": [
    "#### d) \n",
    "##### Explanation\n",
    "\n",
    "Again we will fist sum all the student and international student of a region and then compute the ratio for the same reason as before.\n",
    "\n",
    "##### 1) ratio between faculty members and students aggregated by region"
   ]
  },
  {
   "cell_type": "code",
   "execution_count": null,
   "metadata": {
    "collapsed": true
   },
   "outputs": [],
   "source": [
    "times_uni_grouped_region = universities_times[['region', 'faculty_tot', 'student_tot', 'student_int']].groupby(['region'], as_index=False).sum()"
   ]
  },
  {
   "cell_type": "code",
   "execution_count": null,
   "metadata": {},
   "outputs": [],
   "source": [
    "data = ratio_faculty_students(universities_grouped_region, ['region', 'ratio_faculty_students'])\n",
    "custom_bar_plot('region', 'ratio_faculty_students', data, 'Faculty members per student per region')"
   ]
  },
  {
   "cell_type": "markdown",
   "metadata": {},
   "source": [
    "##### Results\n",
    "\n",
    "Asia take the lead of the ranking when it comes to Faculty members per student."
   ]
  },
  {
   "cell_type": "markdown",
   "metadata": {},
   "source": [
    "##### 2) ratio of international students aggregated by region##### Results"
   ]
  },
  {
   "cell_type": "code",
   "execution_count": null,
   "metadata": {},
   "outputs": [],
   "source": [
    "data = ratio_int(universities_grouped_region, ['region', 'ratio_int_students'])\n",
    "custom_bar_plot('region', 'ratio_int_students', data, 'International students ratio per region')"
   ]
  },
  {
   "cell_type": "markdown",
   "metadata": {
    "collapsed": true
   },
   "source": [
    "##### Results\n",
    "\n"
   ]
  },
  {
   "cell_type": "code",
   "execution_count": null,
   "metadata": {},
   "outputs": [],
   "source": [
    "universities_times.corr()"
   ]
  },
  {
   "cell_type": "code",
   "execution_count": null,
   "metadata": {
    "collapsed": true
   },
   "outputs": [],
   "source": []
  }
 ],
 "metadata": {
  "kernelspec": {
   "display_name": "Python [conda root]",
   "language": "python",
   "name": "conda-root-py"
  },
  "language_info": {
   "codemirror_mode": {
    "name": "ipython",
    "version": 3
   },
   "file_extension": ".py",
   "mimetype": "text/x-python",
   "name": "python",
   "nbconvert_exporter": "python",
   "pygments_lexer": "ipython3",
   "version": "3.6.1"
  }
 },
 "nbformat": 4,
 "nbformat_minor": 2
}
