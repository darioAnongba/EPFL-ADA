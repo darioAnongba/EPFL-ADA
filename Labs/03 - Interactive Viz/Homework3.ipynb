{
 "cells": [
  {
   "cell_type": "markdown",
   "metadata": {},
   "source": [
    "# Imports"
   ]
  },
  {
   "cell_type": "code",
   "execution_count": null,
   "metadata": {},
   "outputs": [],
   "source": [
    "%matplotlib inline\n",
    "import pandas as pd\n",
    "import matplotlib.pyplot as plt\n",
    "import seaborn as sns\n",
    "import folium as fl\n",
    "import os, sys, json\n",
    "%load_ext autoreload\n",
    "%autoreload 2\n",
    "\n",
    "DATA_DIR = 'data/'"
   ]
  },
  {
   "cell_type": "code",
   "execution_count": null,
   "metadata": {},
   "outputs": [],
   "source": [
    "unemployment = pd.read_csv(DATA_DIR  + 'unemployment_data.csv')\n",
    "unemployment = unemployment[['GEO', 'Value']]\n",
    "unemployment = unemployment.rename(columns={'GEO': 'country', 'Value': 'unemp'})\n",
    "country_geo = os.path.join('topojson', 'europe.topojson.json')"
   ]
  },
  {
   "cell_type": "code",
   "execution_count": null,
   "metadata": {},
   "outputs": [],
   "source": [
    "# Manually change 'UK' to 'GB' because topojson using 'GB'\n",
    "unemployment.loc[unemployment['country'] == 'UK', ['country']] = ['GB']\n",
    "unemployment.head()"
   ]
  },
  {
   "cell_type": "code",
   "execution_count": null,
   "metadata": {},
   "outputs": [],
   "source": [
    "# Read country_geo file\n",
    "with open(country_geo) as f: country_geo_json = json.loads(f.read())"
   ]
  },
  {
   "cell_type": "code",
   "execution_count": null,
   "metadata": {
    "scrolled": false
   },
   "outputs": [],
   "source": [
    "m = fl.Map(location=[46.57, 7.8], zoom_start=3)\n",
    "m.choropleth(\n",
    "    geo_data=country_geo_json,\n",
    "    topojson='objects.europe',\n",
    "    name='choropleth',\n",
    "    data=unemployment,\n",
    "    columns=['country', 'unemp'],\n",
    "    key_on='feature.id',\n",
    "    fill_color='YlGnBu',\n",
    "    fill_opacity=0.7,\n",
    "    line_opacity=0.2,\n",
    "    legend_name='Unemployment Rate (%)'\n",
    ")\n",
    "\n",
    "\n",
    "fl.LayerControl().add_to(m)\n",
    "\n",
    "m\n"
   ]
  },
  {
   "cell_type": "markdown",
   "metadata": {},
   "source": [
    "# Task 2"
   ]
  },
  {
   "cell_type": "markdown",
   "metadata": {},
   "source": [
    "Go to the amstat website to find a dataset that includes the unemployment rates in Switzerland at a recent date.\n",
    "\n",
    "> HINT Go to the details tab to find the raw data you need. If you do not speak French, German or Italian, think of using free translation services to navigate your way through.\n",
    "Use this data to build another Choropleth map, this time showing the unemployment rate at the level of swiss cantons. Again, try to make the map as expressive as possible, and comment on the trends you observe.\n",
    "\n",
    "The Swiss Confederation defines the rates you have just plotted as the number of people looking for a job divided by the size of the active population (scaled by 100). This is surely a valid choice, but as we discussed one could argue for a different categorization.\n",
    "\n",
    "Copy the map you have just created, but this time don't count in your statistics people who already have a job and are looking for a new one. How do your observations change ? You can repeat this with different choices of categories to see how selecting different metrics can lead to different interpretations of the same data."
   ]
  },
  {
   "cell_type": "markdown",
   "metadata": {},
   "source": [
    "## Solution"
   ]
  },
  {
   "cell_type": "markdown",
   "metadata": {},
   "source": [
    "### Explanation and assumptions"
   ]
  },
  {
   "cell_type": "markdown",
   "metadata": {},
   "source": [
    "#### Explanations"
   ]
  },
  {
   "cell_type": "markdown",
   "metadata": {},
   "source": [
    "For this task. We used the data from the amstat website and chose our features to be \"unemployed (without job and looking for one)\", \"searching for a job (both unemployed and employed)\" and \"searching for a job while being employed\".\n",
    "\n",
    "Given these features and the unemployment rate by canton. We were able to deduce the size of the active population per canton and to plot 2 separate maps.\n",
    "* The first one represents the unemployment rate per canton where the unemployment rate is: `searching for a job` / `active population`\n",
    "* The second one represents the unemployment rate per canton where the unemployment rate is: `searching for a job while being unemployed` / `active population`\n",
    "\n",
    "This shows two similar maps with a few differences explained below.\n",
    "\n",
    "In the process of cleaning the data, we had to transform the data into numeric types (for numeric columns) and also had to manually compute a mapping of the names between the topoJSON canton codes and the names in the fetched data"
   ]
  },
  {
   "cell_type": "markdown",
   "metadata": {},
   "source": [
    "#### Assumptions"
   ]
  },
  {
   "cell_type": "markdown",
   "metadata": {},
   "source": [
    "* While retrieving the data, we had the choice between \"Unemployment for young people\", \"unemployment\" and \"looking for a job\". For this task, we do not use the dataset \"unemployment for young people\" because it's a subset of the \"unemployment\" dataset so we do not need it\n",
    "\n",
    "* We assume (and actually verified) that people that currently have a job and are looking for a new one are  taken into account in the unemployment rate"
   ]
  },
  {
   "cell_type": "markdown",
   "metadata": {},
   "source": [
    "### Data loading"
   ]
  },
  {
   "cell_type": "markdown",
   "metadata": {},
   "source": [
    "We load the unemployment data and process it"
   ]
  },
  {
   "cell_type": "code",
   "execution_count": null,
   "metadata": {},
   "outputs": [],
   "source": [
    "# Name of the columns\n",
    "columns_names = ['region', 'canton', 'unemp_rate', 'unemp', 'searching', 'searching_employed']\n",
    "# columns to keep\n",
    "columns_keep = ['Région linguistique', 'Canton', 'Total', 'Total.1', 'Total.2', 'Total.3']\n",
    "\n",
    "swiss_unemployment = pd.read_csv(\n",
    "    DATA_DIR + 'swiss_unemp.txt',\n",
    "    usecols=columns_keep,\n",
    "    skiprows=[1]\n",
    ")\n",
    "\n",
    "# Renaming of the columns and aggregation by cantons\n",
    "swiss_unemployment.columns = columns_names\n",
    "swiss_unemployment.head()"
   ]
  },
  {
   "cell_type": "markdown",
   "metadata": {},
   "source": [
    "It is possible here to see that the `searching` feature is the sum of the `unemp` and `searching_employed` metrics"
   ]
  },
  {
   "cell_type": "code",
   "execution_count": null,
   "metadata": {},
   "outputs": [],
   "source": [
    "# Mapping of the code names in the topoJSON file and the data\n",
    "name_to_code = {'Zurich':'ZH', \n",
    "                'Berne':'BE',\n",
    "                'Lucerne':'LU',\n",
    "                'Uri':'UR',\n",
    "                'Schwyz':'SZ',\n",
    "                'Obwald':'OW',\n",
    "                'Nidwald':'NW',\n",
    "                'Glaris':'GL',\n",
    "                'Zoug':'ZG',\n",
    "                'Fribourg':'FR',\n",
    "                'Soleure':'SO',\n",
    "                'Bâle-Ville':'BS',\n",
    "                'Bâle-Campagne':'BL',\n",
    "                'Schaffhouse':'SH',\n",
    "                'Appenzell Rhodes-Extérieures':'AR',\n",
    "                'Appenzell Rhodes-Intérieures':'AI',\n",
    "                'St-Gall':'SG',\n",
    "                'Grisons':'GR',\n",
    "                'Argovie':'AG',\n",
    "                'Thurgovie':'TG',\n",
    "                'Tessin':'TI',\n",
    "                'Vaud':'VD',\n",
    "                'Valais':'VS',\n",
    "                'Neuchâtel':'NE',\n",
    "                'Genève':'GE',\n",
    "                'Jura':'JU'}"
   ]
  },
  {
   "cell_type": "code",
   "execution_count": null,
   "metadata": {},
   "outputs": [],
   "source": [
    "swiss_unemployment.canton = swiss_unemployment.canton.map(name_to_code)"
   ]
  },
  {
   "cell_type": "markdown",
   "metadata": {},
   "source": [
    "We load the TopoJSON of swiss cantons "
   ]
  },
  {
   "cell_type": "code",
   "execution_count": null,
   "metadata": {},
   "outputs": [],
   "source": [
    "canton_topo = json.load(open('topojson/ch-cantons.topojson.json'))"
   ]
  },
  {
   "cell_type": "markdown",
   "metadata": {},
   "source": [
    "## Unemployment rate by cantons"
   ]
  },
  {
   "cell_type": "code",
   "execution_count": null,
   "metadata": {
    "scrolled": false
   },
   "outputs": [],
   "source": [
    "m = fl.Map(location=[46.9,8.4], zoom_start=8)\n",
    "m.choropleth(\n",
    "    geo_data=canton_topo,\n",
    "    topojson='objects.cantons',\n",
    "    name='choropleth',\n",
    "    data=swiss_unemployment,\n",
    "    columns=['canton', 'unemp_rate'],\n",
    "    key_on='feature.id',\n",
    "    fill_color='YlOrRd',\n",
    "    fill_opacity=0.7,\n",
    "    line_opacity=0.8,\n",
    "    legend_name='Unemployment Rate (%)'\n",
    ")\n",
    "\n",
    "\n",
    "fl.LayerControl().add_to(m)\n",
    "\n",
    "m"
   ]
  },
  {
   "cell_type": "markdown",
   "metadata": {},
   "source": [
    "## Unemployment rates by cantons without people already employed"
   ]
  },
  {
   "cell_type": "markdown",
   "metadata": {},
   "source": [
    "We transform the columns that are strings into integers (to do so we must delete the quotes)"
   ]
  },
  {
   "cell_type": "code",
   "execution_count": null,
   "metadata": {},
   "outputs": [],
   "source": [
    "def remove_quotes(df, column_name):\n",
    "    return df[column_name].str.replace(\"'\", '')"
   ]
  },
  {
   "cell_type": "code",
   "execution_count": null,
   "metadata": {},
   "outputs": [],
   "source": [
    "swiss_unemployment['unemp'] = remove_quotes(swiss_unemployment, 'unemp')\n",
    "swiss_unemployment['searching'] = remove_quotes(swiss_unemployment, 'searching')\n",
    "swiss_unemployment['searching_employed'] = remove_quotes(swiss_unemployment, 'searching_employed')\n",
    "swiss_unemployment[['unemp', 'searching', 'searching_employed']] = swiss_unemployment[['unemp','searching', 'searching_employed']].apply(pd.to_numeric)"
   ]
  },
  {
   "cell_type": "code",
   "execution_count": null,
   "metadata": {},
   "outputs": [],
   "source": [
    "swiss_unemployment['active_pop'] = swiss_unemployment['searching'] / (swiss_unemployment['unemp_rate'] / 100)\n",
    "swiss_unemployment['unemp_rate_not_employed'] = swiss_unemployment['unemp'] / swiss_unemployment['active_pop'] * 100"
   ]
  },
  {
   "cell_type": "code",
   "execution_count": null,
   "metadata": {},
   "outputs": [],
   "source": [
    "m = fl.Map(location=[46.9, 8.4], zoom_start=8)\n",
    "m.choropleth(\n",
    "    geo_data=canton_topo,\n",
    "    topojson='objects.cantons',\n",
    "    name='choropleth',\n",
    "    data=swiss_unemployment,\n",
    "    columns=['canton', 'unemp_rate_not_employed'],\n",
    "    key_on='feature.id',\n",
    "    fill_color='YlOrRd',\n",
    "    fill_opacity=0.7,\n",
    "    line_opacity=0.8,\n",
    "    legend_name='Unemployment Rate (%)'\n",
    ")\n",
    "\n",
    "\n",
    "fl.LayerControl().add_to(m)\n",
    "\n",
    "m"
   ]
  },
  {
   "cell_type": "markdown",
   "metadata": {},
   "source": [
    "Here we can see that some cantons fall into different categories than the previous map. It means that the same data can be interpreted in various ways depending of the initial assumptions.\n",
    "\n",
    "For example, here we see that Ticino has a similar unemployment rate than Valais and Berne, whereas this was not true in the first map. Same for Aargau, Solothurn, etc"
   ]
  },
  {
   "cell_type": "markdown",
   "metadata": {},
   "source": [
    "# Task 4 (Bonus)"
   ]
  },
  {
   "cell_type": "markdown",
   "metadata": {},
   "source": [
    "BONUS: using the map you have just built, and the geographical information contained in it, could you give a rough estimate of the difference in unemployment rates between the areas divided by the Röstigraben?"
   ]
  },
  {
   "cell_type": "markdown",
   "metadata": {},
   "source": [
    "## Solution"
   ]
  },
  {
   "cell_type": "markdown",
   "metadata": {},
   "source": [
    "#### Explanation"
   ]
  },
  {
   "cell_type": "markdown",
   "metadata": {},
   "source": [
    "Using the data from task 2, it is possible to give a very precise unemployment rate for the 2 areas divided by the Röstigraben. We just need to group the data by linguistical region and plot the data"
   ]
  },
  {
   "cell_type": "markdown",
   "metadata": {},
   "source": [
    "#### Code"
   ]
  },
  {
   "cell_type": "code",
   "execution_count": null,
   "metadata": {},
   "outputs": [],
   "source": [
    "sns.set_style(\"whitegrid\")\n",
    "\n",
    "fig, ax = plt.subplots(figsize=(8, 6))\n",
    "\n",
    "data = swiss_unemployment.groupby(by='region', as_index=False).mean()\n",
    "sns.barplot(ax=ax, x=\"region\", y=\"unemp_rate\", data=data.drop(2))"
   ]
  },
  {
   "cell_type": "markdown",
   "metadata": {},
   "source": [
    "As we can see (and can predict from the maps), the swiss german part of Switzerland is doing way better than the other regions in terms of unemployment rates"
   ]
  }
 ],
 "metadata": {
  "kernelspec": {
   "display_name": "Python [default]",
   "language": "python",
   "name": "python3"
  },
  "language_info": {
   "codemirror_mode": {
    "name": "ipython",
    "version": 3
   },
   "file_extension": ".py",
   "mimetype": "text/x-python",
   "name": "python",
   "nbconvert_exporter": "python",
   "pygments_lexer": "ipython3",
   "version": "3.6.1"
  }
 },
 "nbformat": 4,
 "nbformat_minor": 2
}
