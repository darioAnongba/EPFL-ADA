{
 "cells": [
  {
   "cell_type": "code",
   "execution_count": null,
   "metadata": {},
   "outputs": [],
   "source": [
    "import pandas as pd\n",
    "import folium as fl\n",
    "import os, sys, json"
   ]
  },
  {
   "cell_type": "code",
   "execution_count": null,
   "metadata": {},
   "outputs": [],
   "source": [
    "unemployment = pd.read_csv('data/unemployment_data.csv')\n",
    "unemployment = unemployment[['GEO', 'Value']]\n",
    "unemployment = unemployment.rename(columns={'GEO': 'country', 'Value': 'unemp'})\n",
    "country_geo = os.path.join('topojson', 'europe.topojson.json')\n",
    "ch_geo = os.path.join('topojson', 'ch-cantons.topojson.json')"
   ]
  },
  {
   "cell_type": "code",
   "execution_count": null,
   "metadata": {},
   "outputs": [],
   "source": [
    "# Manually change 'UK' to 'GB' because topojson using 'GB'\n",
    "unemployment.loc[unemployment['country'] == 'UK', ['country']] = ['GB']\n",
    "unemployment"
   ]
  },
  {
   "cell_type": "code",
   "execution_count": null,
   "metadata": {},
   "outputs": [],
   "source": [
    "# Read country_geo file\n",
    "with open(country_geo) as f: country_geo_json = json.loads(f.read())"
   ]
  },
  {
   "cell_type": "code",
   "execution_count": null,
   "metadata": {},
   "outputs": [],
   "source": [
    "m = fl.Map(location=[46.57, 7.8], zoom_start=3)\n",
    "m.choropleth(\n",
    "    geo_data=country_geo_json,\n",
    "    topojson='objects.europe',\n",
    "    name='choropleth',\n",
    "    data=unemployment,\n",
    "    columns=['country', 'unemp'],\n",
    "    key_on='feature.id',\n",
    "    fill_color='YlOrRd',\n",
    "    fill_opacity=0.7,\n",
    "    line_opacity=0.2,\n",
    "    legend_name='Unemployment Rate (%)'\n",
    ")\n",
    "\n",
    "\n",
    "fl.LayerControl().add_to(m)\n",
    "\n",
    "m\n"
   ]
  },
  {
   "cell_type": "markdown",
   "metadata": {},
   "source": [
    "# Task 3"
   ]
  },
  {
   "cell_type": "code",
   "execution_count": null,
   "metadata": {},
   "outputs": [],
   "source": [
    "abreviations = {'Zurich':'ZH', \n",
    "                'Berne':'BE',\n",
    "                'Lucerne':'LU',\n",
    "                'Uri':'UR',\n",
    "                'Schwyz':'SZ',\n",
    "                'Obwald':'OW',\n",
    "                'Nidwald':'NW',\n",
    "                'Glaris':'GL',\n",
    "                'Zoug':'ZG',\n",
    "                'Fribourg':'FR',\n",
    "                'Soleure':'SO',\n",
    "                'Bâle-Ville':'BS',\n",
    "                'Bâle-Campagne':'BL',\n",
    "                'Schaffhouse':'SH',\n",
    "                'Appenzell Rhodes-Extérieures':'AR',\n",
    "                'Appenzell Rhodes-Intérieures':'AI',\n",
    "                'St-Gall':'SG',\n",
    "                'Grisons':'GR',\n",
    "                'Argovie':'AG',\n",
    "                'Thurgovie':'TG',\n",
    "                'Tessin':'TI',\n",
    "                'Vaud':'VD',\n",
    "                'Valais':'VS',\n",
    "                'Neuchâtel':'NE',\n",
    "                'Genève':'GE',\n",
    "                'Jura':'JU'}"
   ]
  },
  {
   "cell_type": "code",
   "execution_count": null,
   "metadata": {},
   "outputs": [],
   "source": [
    "chom_all = pd.read_csv('data/swiss_unemployment_nation.csv',skiprows=[1])\n",
    "chom_all.Canton = chom_all.Canton.map(abreviations)\n",
    "chom_all.Total = chom_all.Total.astype(float)\n",
    "chom_aus = chom_all[chom_all['Nationalité']== 'Etrangers'].drop(['Nationalité','Mois'],axis=1)\n",
    "chom_ch = chom_all[chom_all['Nationalité']== 'Suisses'].drop(['Nationalité','Mois'],axis=1)\n",
    "treshold = []\n",
    "# Read ch_geo file\n",
    "with open(ch_geo) as f: ch_geo_json = json.loads(f.read())"
   ]
  },
  {
   "cell_type": "code",
   "execution_count": null,
   "metadata": {},
   "outputs": [],
   "source": [
    "m_aus = fl.Map(location=[ 46.8008, 8.2301 ], zoom_start=7)\n",
    "m_aus.choropleth(\n",
    "    geo_data=ch_geo_json,\n",
    "    topojson='objects.cantons',\n",
    "    name='choropleth',\n",
    "    data=chom_aus,\n",
    "    columns=['Canton', 'Total'],\n",
    "    key_on='feature.id',\n",
    "    fill_color='YlOrRd',\n",
    "    fill_opacity=0.7,\n",
    "    line_opacity=0.2,\n",
    ")\n",
    "m_aus.save('maps/m_aus.html')"
   ]
  },
  {
   "cell_type": "code",
   "execution_count": null,
   "metadata": {},
   "outputs": [],
   "source": [
    "m_ch = fl.Map(location=[ 46.8008, 8.2301 ], zoom_start=7)\n",
    "m_ch.choropleth(\n",
    "    geo_data=ch_geo_json,\n",
    "    topojson='objects.cantons',\n",
    "    name='choropleth',\n",
    "    data=chom_ch,\n",
    "    columns=['Canton', 'Total'],\n",
    "    key_on='feature.id',\n",
    "    fill_color='YlOrRd',\n",
    "    fill_opacity=0.7,\n",
    "    line_opacity=0.2,\n",
    ")\n",
    "m_ch.save('maps/m_ch.html')\n",
    "#<iframe width='50%' height ='350' src='maps/m_aus.html'/><iframe width='50%' height ='350' src='maps/m_ch.html'/>"
   ]
  },
  {
   "cell_type": "code",
   "execution_count": null,
   "metadata": {},
   "outputs": [],
   "source": [
    "%%HTML\n",
    "<div style=\"float:left\">Foreigner unemployment</div>\n",
    "<div style=\"float:right\">Swiss unemployment</div><br>\n",
    "<div>\n",
    "    <iframe width=\"50%\" height='350' src='maps/m_aus.html'/><iframe width=\"50%\" height='350' src='maps/m_ch.html'/>\n",
    "</div>"
   ]
  },
  {
   "cell_type": "code",
   "execution_count": null,
   "metadata": {},
   "outputs": [],
   "source": []
  }
 ],
 "metadata": {
  "kernelspec": {
   "display_name": "Python [default]",
   "language": "python",
   "name": "python3"
  },
  "language_info": {
   "codemirror_mode": {
    "name": "ipython",
    "version": 3
   },
   "file_extension": ".py",
   "mimetype": "text/x-python",
   "name": "python",
   "nbconvert_exporter": "python",
   "pygments_lexer": "ipython3",
   "version": "3.6.1"
  }
 },
 "nbformat": 4,
 "nbformat_minor": 2
}
