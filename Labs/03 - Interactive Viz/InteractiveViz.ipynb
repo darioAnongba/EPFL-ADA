{
 "cells": [
  {
   "cell_type": "code",
   "execution_count": null,
   "metadata": {},
   "outputs": [],
   "source": [
    "import pandas as pd\n",
    "import folium as fl\n",
    "import os, sys, json"
   ]
  },
  {
   "cell_type": "code",
   "execution_count": null,
   "metadata": {},
   "outputs": [],
   "source": [
    "unemployment = pd.read_csv('data/unemployment_data.csv')\n",
    "unemployment = unemployment[['GEO', 'Value']]\n",
    "unemployment = unemployment.rename(columns={'GEO': 'country', 'Value': 'unemp'})\n",
    "country_geo_data = os.path.join('topojson', 'europe.topojson.json')"
   ]
  },
  {
   "cell_type": "code",
   "execution_count": null,
   "metadata": {},
   "outputs": [],
   "source": [
    "# Manually change 'UK' to 'GB' because topojson using 'GB'\n",
    "unemployment.loc[unemployment['country'] == 'UK', ['country']] = ['GB']\n",
    "unemployment"
   ]
  },
  {
   "cell_type": "code",
   "execution_count": null,
   "metadata": {},
   "outputs": [],
   "source": [
    "# Read country_geo file\n",
    "with open(country_geo) as f: country_geo_json = json.loads(f.read())"
   ]
  },
  {
   "cell_type": "code",
   "execution_count": null,
   "metadata": {},
   "outputs": [],
   "source": [
    "m = fl.Map(location=[46.57, 7.8], zoom_start=3)\n",
    "m.choropleth(\n",
    "    geo_data=country_geo_json,\n",
    "    topojson='objects.europe',\n",
    "    name='choropleth',\n",
    "    data=unemployment,\n",
    "    columns=['country', 'unemp'],\n",
    "    key_on='feature.id',\n",
    "    fill_color='YlGnBu',\n",
    "    fill_opacity=0.7,\n",
    "    line_opacity=0.2,\n",
    "    legend_name='Unemployment Rate (%)'\n",
    ")\n",
    "\n",
    "\n",
    "fl.LayerControl().add_to(m)\n",
    "\n",
    "m\n"
   ]
  },
  {
   "cell_type": "code",
   "execution_count": null,
   "metadata": {},
   "outputs": [],
   "source": []
  }
 ],
 "metadata": {
  "kernelspec": {
   "display_name": "Python [default]",
   "language": "python",
   "name": "python3"
  },
  "language_info": {
   "codemirror_mode": {
    "name": "ipython",
    "version": 3
   },
   "file_extension": ".py",
   "mimetype": "text/x-python",
   "name": "python",
   "nbconvert_exporter": "python",
   "pygments_lexer": "ipython3",
   "version": "3.6.1"
  }
 },
 "nbformat": 4,
 "nbformat_minor": 2
}
