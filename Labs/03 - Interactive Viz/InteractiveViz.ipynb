{
 "cells": [
  {
   "cell_type": "code",
   "execution_count": null,
   "metadata": {},
   "outputs": [],
   "source": [
    "import pandas as pd\n",
    "import folium as fl\n",
    "import os, sys, json"
   ]
  },
  {
   "cell_type": "code",
   "execution_count": null,
   "metadata": {},
   "outputs": [],
   "source": [
    "unemployment = pd.read_csv('data/tesem120.tsv', sep='\\t')\n",
    "unemployment = unemployment[['sex','geo\\\\time','2016']]\n",
    "unemployment.columns = ['sex','country','unemp']\n",
    "unemployment.sex = unemployment.sex.astype('category')\n",
    "unemployment.country = unemployment.country.astype('category')\n",
    "unemployment = unemployment[unemployment['sex']=='T']\n",
    "country_geo = os.path.join('topojson', 'europe.topojson.json')\n",
    "\n",
    "# Read country_geo file\n",
    "with open(country_geo) as f: country_geo_data = f.read()\n"
   ]
  },
  {
   "cell_type": "code",
   "execution_count": null,
   "metadata": {},
   "outputs": [],
   "source": [
    "unemployment"
   ]
  },
  {
   "cell_type": "code",
   "execution_count": null,
   "metadata": {},
   "outputs": [],
   "source": [
    "m = fl.Map(location=[46.57, 7.8], zoom_start=3)\n",
    "m.choropleth(\n",
    "    geo_data=json.loads(s),\n",
    "    topojson='objects.europe',\n",
    "    name='choropleth',\n",
    "    data=unemployment,\n",
    "    columns=['country', 'unemp'],\n",
    "    key_on='feature.id',\n",
    "    fill_color='YlOrRd',\n",
    "    fill_opacity=0.7,\n",
    "    line_opacity=0.2,\n",
    "    legend_name='Unemployment Rate (%)'\n",
    ")\n",
    "\n",
    "\n",
    "fl.LayerControl().add_to(m)\n",
    "\n",
    "m\n"
   ]
  },
  {
   "cell_type": "code",
   "execution_count": null,
   "metadata": {},
   "outputs": [],
   "source": []
  }
 ],
 "metadata": {
  "kernelspec": {
   "display_name": "Python [default]",
   "language": "python",
   "name": "python3"
  },
  "language_info": {
   "codemirror_mode": {
    "name": "ipython",
    "version": 3
   },
   "file_extension": ".py",
   "mimetype": "text/x-python",
   "name": "python",
   "nbconvert_exporter": "python",
   "pygments_lexer": "ipython3",
   "version": "3.6.1"
  }
 },
 "nbformat": 4,
 "nbformat_minor": 2
}
